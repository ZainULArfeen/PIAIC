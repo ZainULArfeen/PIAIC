{
 "cells": [
  {
   "cell_type": "markdown",
   "metadata": {},
   "source": [
    "# Rabbits and Chickens"
   ]
  },
  {
   "cell_type": "code",
   "execution_count": 10,
   "metadata": {},
   "outputs": [
    {
     "name": "stdout",
     "output_type": "stream",
     "text": [
      "Chickens : 23\n",
      "Rabbits : 12\n"
     ]
    }
   ],
   "source": [
    "import numpy as np\n",
    "def chick_rab(heads,legs):\n",
    "    A = np.array([[1,1],[2,4]])\n",
    "    B = np.array([heads,legs])\n",
    "    res = np.linalg.solve(A,B)\n",
    "    chickens = int(res[:1])\n",
    "    rabbits = int(res[1:])\n",
    "    print(\"Chickens : \" + str(chickens) + \"\\nRabbits : \" + str(rabbits))\n",
    "\n",
    "chick_rab(35,94)"
   ]
  },
  {
   "cell_type": "markdown",
   "metadata": {},
   "source": [
    "## Characters that have even indexes"
   ]
  },
  {
   "cell_type": "code",
   "execution_count": 12,
   "metadata": {},
   "outputs": [
    {
     "name": "stdout",
     "output_type": "stream",
     "text": [
      "Enter text : H1e2l3l4o5w6o7r8l9d\n",
      "Helloworld\n"
     ]
    }
   ],
   "source": [
    "text = input(\"Enter text : \")\n",
    "print(text[::2])"
   ]
  },
  {
   "cell_type": "markdown",
   "metadata": {},
   "source": [
    "## Reverse Order"
   ]
  },
  {
   "cell_type": "code",
   "execution_count": 13,
   "metadata": {},
   "outputs": [
    {
     "name": "stdout",
     "output_type": "stream",
     "text": [
      "Enter Text : rise to vote sir\n",
      "ris etov ot esir\n"
     ]
    }
   ],
   "source": [
    "text = input(\"Enter Text : \")\n",
    "print(text[::-1])"
   ]
  },
  {
   "cell_type": "markdown",
   "metadata": {},
   "source": [
    "## Number Of Each Char"
   ]
  },
  {
   "cell_type": "code",
   "execution_count": 36,
   "metadata": {},
   "outputs": [
    {
     "name": "stdout",
     "output_type": "stream",
     "text": [
      "Enter Text : abcdefgabc\n",
      "a , 2\n",
      "b , 2\n",
      "c , 2\n",
      "d , 1\n",
      "e , 1\n",
      "f , 1\n",
      "g , 1\n"
     ]
    }
   ],
   "source": [
    "text = input(\"Enter Text : \")\n",
    "text = list(map(str,text))\n",
    "word_count = {}\n",
    "for alpha in text:\n",
    "    if alpha not in word_count:\n",
    "        word_count[alpha] = 1\n",
    "    else:\n",
    "        word_count[alpha] += 1\n",
    "for key,value in word_count.items():\n",
    "    print(key,\",\",value)"
   ]
  },
  {
   "cell_type": "markdown",
   "metadata": {},
   "source": [
    "## Shape and Square"
   ]
  },
  {
   "cell_type": "code",
   "execution_count": 42,
   "metadata": {},
   "outputs": [
    {
     "name": "stdout",
     "output_type": "stream",
     "text": [
      "Enter length of any side of a square :  11\n"
     ]
    },
    {
     "data": {
      "text/plain": [
       "121"
      ]
     },
     "execution_count": 42,
     "metadata": {},
     "output_type": "execute_result"
    }
   ],
   "source": [
    "class Shape:\n",
    "    \n",
    "    def area(self,shape_area = 0):\n",
    "        return shape_area\n",
    "        \n",
    "    \n",
    "class Square(Shape):\n",
    "    def __init__(self,length=0):\n",
    "        self.length = length\n",
    "    \n",
    "    def area(self,shape_area = 0):\n",
    "        length = int(input(\"Enter length of any side of a square :  \"))\n",
    "        shape_area = length**2\n",
    "        return shape_area\n",
    "obj = Square()\n",
    "obj.area()\n",
    "        \n",
    "        \n",
    "        "
   ]
  },
  {
   "cell_type": "markdown",
   "metadata": {},
   "source": [
    "## Compute 5/0"
   ]
  },
  {
   "cell_type": "code",
   "execution_count": 49,
   "metadata": {},
   "outputs": [
    {
     "name": "stdout",
     "output_type": "stream",
     "text": [
      "Error :  division by zero\n"
     ]
    }
   ],
   "source": [
    "def div_by_zero():\n",
    "    try :\n",
    "        compute = 5 / 0\n",
    "    except Exception as e:\n",
    "        print(\"Error : \" , e)\n",
    "div_by_zero()"
   ]
  },
  {
   "cell_type": "markdown",
   "metadata": {},
   "source": [
    "## Email Addresses to name"
   ]
  },
  {
   "cell_type": "code",
   "execution_count": 51,
   "metadata": {},
   "outputs": [
    {
     "name": "stdout",
     "output_type": "stream",
     "text": [
      "Email : zain@gmail.com\n"
     ]
    },
    {
     "data": {
      "text/plain": [
       "'zain'"
      ]
     },
     "execution_count": 51,
     "metadata": {},
     "output_type": "execute_result"
    }
   ],
   "source": [
    "email = input(\"Email : \")\n",
    "user_name = email[:email.find('@')]\n",
    "user_name"
   ]
  },
  {
   "cell_type": "markdown",
   "metadata": {},
   "source": [
    "## Word Composed of Digits\n"
   ]
  },
  {
   "cell_type": "code",
   "execution_count": 54,
   "metadata": {},
   "outputs": [
    {
     "name": "stdout",
     "output_type": "stream",
     "text": [
      "['2', '3']\n"
     ]
    }
   ],
   "source": [
    "sentence = \"2 cats and 3 dogs\"\n",
    "num_list = []\n",
    "for word in sentence:\n",
    "    if word.isdigit():\n",
    "        num_list.append(word)\n",
    "print(num_list)"
   ]
  },
  {
   "cell_type": "markdown",
   "metadata": {},
   "source": [
    "## Compute Series"
   ]
  },
  {
   "cell_type": "code",
   "execution_count": 60,
   "metadata": {},
   "outputs": [
    {
     "name": "stdout",
     "output_type": "stream",
     "text": [
      "Enter a number (n>0) : 5\n",
      "3.55\n"
     ]
    }
   ],
   "source": [
    "n = int(input(\"Enter a number (n>0) : \"))\n",
    "compute = 0\n",
    "for i in range(1,n+1):\n",
    "    j = i + 1\n",
    "    compute += i / j\n",
    "print(str.format('{:.2f}',compute))"
   ]
  },
  {
   "cell_type": "markdown",
   "metadata": {},
   "source": [
    "## f(n)=f(n-1)+100 when n>0 and f(0)=1"
   ]
  },
  {
   "cell_type": "code",
   "execution_count": 13,
   "metadata": {},
   "outputs": [
    {
     "name": "stdout",
     "output_type": "stream",
     "text": [
      "Enter Number : 5\n",
      "501\n"
     ]
    }
   ],
   "source": [
    "n = int(input(\"Enter Number : \"))\n",
    "calculations = { 0 : 1,}\n",
    "for i in range(1,n+1):\n",
    "    key = i\n",
    "    num = i - 1\n",
    "    value = calculations.get(num) + 100\n",
    "    calculations[key] = value\n",
    "\n",
    "print(calculations.get(n) )\n"
   ]
  },
  {
   "cell_type": "markdown",
   "metadata": {},
   "source": [
    "## Password Validity"
   ]
  },
  {
   "cell_type": "code",
   "execution_count": 17,
   "metadata": {},
   "outputs": [
    {
     "name": "stdout",
     "output_type": "stream",
     "text": [
      "password : ABd1234@1\n",
      "Password : ABd1234@1\n"
     ]
    }
   ],
   "source": [
    "import re\n",
    "password = input(\"password : \")\n",
    "x = True\n",
    "while x:  \n",
    "    if (len(password)<6 or len(p)>12):\n",
    "        break\n",
    "    elif not re.search(\"[a-z]\",password):\n",
    "        break\n",
    "    elif not re.search(\"[0-9]\",password):\n",
    "        break\n",
    "    elif not re.search(\"[A-Z]\",password):\n",
    "        break\n",
    "    elif not re.search(\"[$#@]\",password):\n",
    "        break\n",
    "    elif re.search(\"\\s\",password):\n",
    "        break\n",
    "    else:\n",
    "        print(\"Password :\" , password)\n",
    "        x=False\n",
    "        break\n",
    "\n",
    "if x:\n",
    "    print(\"Not a Valid Password\")\n",
    "    "
   ]
  },
  {
   "cell_type": "code",
   "execution_count": null,
   "metadata": {},
   "outputs": [],
   "source": []
  }
 ],
 "metadata": {
  "kernelspec": {
   "display_name": "Python 3",
   "language": "python",
   "name": "python3"
  },
  "language_info": {
   "codemirror_mode": {
    "name": "ipython",
    "version": 3
   },
   "file_extension": ".py",
   "mimetype": "text/x-python",
   "name": "python",
   "nbconvert_exporter": "python",
   "pygments_lexer": "ipython3",
   "version": "3.7.4"
  }
 },
 "nbformat": 4,
 "nbformat_minor": 2
}
