{
 "cells": [
  {
   "cell_type": "markdown",
   "metadata": {},
   "source": [
    "## Task 1"
   ]
  },
  {
   "cell_type": "code",
   "execution_count": 32,
   "metadata": {},
   "outputs": [
    {
     "name": "stdout",
     "output_type": "stream",
     "text": [
      "Enter the key (int) to be added:12\n",
      "Enter the value for the key to be added:23\n",
      "{'12': '23'}\n"
     ]
    }
   ],
   "source": [
    "key = input(\"Enter the key (int) to be added:\")\n",
    "value = input(\"Enter the value for the key to be added:\")\n",
    "myDictionary = {}\n",
    "myDictionary.update({key:value})\n",
    "print(myDictionary)"
   ]
  },
  {
   "cell_type": "markdown",
   "metadata": {},
   "source": [
    "## Task 2"
   ]
  },
  {
   "cell_type": "code",
   "execution_count": 11,
   "metadata": {},
   "outputs": [
    {
     "name": "stdout",
     "output_type": "stream",
     "text": [
      "{'math': 0, 'calculus': 2, 'oop': 3, 'psychology': 4, 'physics': 1}\n"
     ]
    }
   ],
   "source": [
    "myDictionary = {'math':0, 'calculus': 2, 'oop': 3}\n",
    "myOtherDictionary = {'psychology': 4, 'physics': 1}\n",
    "myDictionary.update(myOtherDictionary.items())\n",
    "print(myDictionary)"
   ]
  },
  {
   "cell_type": "markdown",
   "metadata": {},
   "source": [
    "## Task 3"
   ]
  },
  {
   "cell_type": "code",
   "execution_count": 18,
   "metadata": {},
   "outputs": [
    {
     "name": "stdout",
     "output_type": "stream",
     "text": [
      "Enter key to find: math\n",
      "Key is present and value of the key is: 0\n"
     ]
    }
   ],
   "source": [
    "myDictionary = {'math':0, 'calculus': 2, 'oop': 3}\n",
    "givenKey = input(\"Enter key to find: \")\n",
    "if givenKey in myDictionary.keys():\n",
    "    print(\"Key is present and value of the key is: \"+ str(myDictionary[givenKey]))\n",
    "else:\n",
    "    print(\"Key isn't present!\")"
   ]
  },
  {
   "cell_type": "markdown",
   "metadata": {},
   "source": [
    "## Task 4"
   ]
  },
  {
   "cell_type": "code",
   "execution_count": 30,
   "metadata": {},
   "outputs": [
    {
     "name": "stdout",
     "output_type": "stream",
     "text": [
      "Enter number: 19\n",
      "{1: 1, 2: 4, 3: 9, 4: 16, 5: 25, 6: 36, 7: 49, 8: 64, 9: 81, 10: 100, 11: 121, 12: 144, 13: 169, 14: 196, 15: 225, 16: 256, 17: 289, 18: 324, 19: 361}\n"
     ]
    }
   ],
   "source": [
    "num = int(input(\"Enter number: \"))\n",
    "num += 1\n",
    "myDictionary = {}\n",
    "x = 1\n",
    "while x < num:\n",
    "    myDictionary[x] = x*x\n",
    "    x += 1\n",
    "print(myDictionary)"
   ]
  },
  {
   "cell_type": "markdown",
   "metadata": {},
   "source": [
    "## Task 5"
   ]
  },
  {
   "cell_type": "code",
   "execution_count": 43,
   "metadata": {},
   "outputs": [
    {
     "name": "stdout",
     "output_type": "stream",
     "text": [
      "Total sum of values in the dictionary: 5\n"
     ]
    }
   ],
   "source": [
    "myDictionary = {'math':0, 'calculus': 2, 'oop': 3}\n",
    "sum = 0\n",
    "for value in myDictionary.values():\n",
    "    sum += value\n",
    "print(\"Total sum of values in the dictionary: \" + str(sum))"
   ]
  },
  {
   "cell_type": "markdown",
   "metadata": {},
   "source": [
    "## Task 6"
   ]
  },
  {
   "cell_type": "code",
   "execution_count": 46,
   "metadata": {},
   "outputs": [
    {
     "name": "stdout",
     "output_type": "stream",
     "text": [
      "The multiplication of all items is: 12\n"
     ]
    }
   ],
   "source": [
    "myDictionary = {'math':2, 'calculus': 2, 'oop': 3}\n",
    "multiplication = 1\n",
    "for value in myDictionary.values():\n",
    "    multiplication *= value\n",
    "print(\"The multiplication of all items is: \" + str(multiplication))"
   ]
  },
  {
   "cell_type": "markdown",
   "metadata": {},
   "source": [
    "## Task 7"
   ]
  },
  {
   "cell_type": "code",
   "execution_count": 59,
   "metadata": {},
   "outputs": [
    {
     "name": "stdout",
     "output_type": "stream",
     "text": [
      "initial dictionary {'math': 2, 'calculus': 2, 'oop': 3}\n",
      "Enter key to delete: math\n",
      "Updated dictionary: {'calculus': 2, 'oop': 3}\n"
     ]
    }
   ],
   "source": [
    "myDictionary = {'math':2, 'calculus': 2, 'oop': 3}\n",
    "print(\"initial dictionary \" + str(myDictionary))\n",
    "userInput = input(\"Enter key to delete: \")\n",
    "if userInput in myDictionary:\n",
    "    myDictionary.pop(userInput)\n",
    "print(\"Updated dictionary: \" + str(myDictionary))"
   ]
  },
  {
   "cell_type": "markdown",
   "metadata": {},
   "source": [
    "## Task 8"
   ]
  },
  {
   "cell_type": "code",
   "execution_count": 83,
   "metadata": {},
   "outputs": [
    {
     "name": "stdout",
     "output_type": "stream",
     "text": [
      "Enter number of elements for dictionary: 3\n",
      "for keys: \n",
      "Enter element: 11\n",
      "Enter element: 22\n",
      "Enter element: 33\n",
      "for values: \n",
      "Enter element: 14\n",
      "Enter element: 26\n",
      "Enter element: 39\n",
      "The dictionary is: {'1': '4', '2': '6', '3': '9'}\n"
     ]
    }
   ],
   "source": [
    "key, value = [], []\n",
    "myDict = {}\n",
    "num = 0\n",
    "userIn = int(input(\"Enter number of elements for dictionary: \"))\n",
    "print(\"for keys: \")\n",
    "for x in range(userIn):\n",
    "    key.append(input(\"Enter element: \" + str(x+1)))\n",
    "print(\"for values: \")\n",
    "for x in range(userIn):\n",
    "    value.append(input(\"Enter element: \" + str(x+1)))\n",
    "while num < userIn:\n",
    "    myDict = dict(zip(key, value))\n",
    "    num += 1\n",
    "print(\"The dictionary is: \" + str(myDict))"
   ]
  },
  {
   "cell_type": "markdown",
   "metadata": {},
   "source": [
    "## Task 9"
   ]
  },
  {
   "cell_type": "code",
   "execution_count": 87,
   "metadata": {},
   "outputs": [
    {
     "name": "stdout",
     "output_type": "stream",
     "text": [
      "Enter String: hello world program world test\n",
      "{'hello': 1, 'world': 2, 'program': 1, 'test': 1}\n"
     ]
    }
   ],
   "source": [
    "string = input(\"Enter String: \")\n",
    "data = string.lower().split()\n",
    "myDict = {}\n",
    "for word in data:\n",
    "    if word in myDict:\n",
    "        myDict[word] += 1\n",
    "    else:\n",
    "        myDict[word] = 1\n",
    "print(myDict)\n",
    "        "
   ]
  },
  {
   "cell_type": "markdown",
   "metadata": {},
   "source": [
    "## Task 10"
   ]
  },
  {
   "cell_type": "code",
   "execution_count": 25,
   "metadata": {},
   "outputs": [
    {
     "name": "stdout",
     "output_type": "stream",
     "text": [
      "enter string: python is my most favourite programming language in the entire world\n",
      "{'p': ['python', 'programming'], 'i': ['is', 'in'], 'm': ['my', 'most'], 'f': ['favourite'], 'l': ['language'], 't': ['the'], 'e': ['entire'], 'w': ['world']}\n"
     ]
    }
   ],
   "source": [
    "string = input(\"enter string: \")\n",
    "wordData = string.lower().split()\n",
    "#alphaData = []\n",
    "myDict = {}\n",
    "\n",
    "for word in wordData:\n",
    "    key = word[0]\n",
    "    #word = list(word)\n",
    "    if key in myDict:\n",
    "        myDict.setdefault(key, []).append(word)\n",
    "    else:\n",
    "        myDict.setdefault(key, []).append(word)\n",
    "print(myDict)"
   ]
  }
 ],
 "metadata": {
  "kernelspec": {
   "display_name": "Python 3",
   "language": "python",
   "name": "python3"
  },
  "language_info": {
   "codemirror_mode": {
    "name": "ipython",
    "version": 3
   },
   "file_extension": ".py",
   "mimetype": "text/x-python",
   "name": "python",
   "nbconvert_exporter": "python",
   "pygments_lexer": "ipython3",
   "version": "3.7.4"
  }
 },
 "nbformat": 4,
 "nbformat_minor": 2
}
