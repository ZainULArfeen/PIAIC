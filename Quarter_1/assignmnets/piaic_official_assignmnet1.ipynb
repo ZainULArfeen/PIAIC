{
 "cells": [
  {
   "cell_type": "markdown",
   "metadata": {},
   "source": [
    "# Calculate Area Of a Circle"
   ]
  },
  {
   "cell_type": "code",
   "execution_count": 1,
   "metadata": {},
   "outputs": [
    {
     "name": "stdout",
     "output_type": "stream",
     "text": [
      "Input radius : 0.5\n",
      "Area of a Circle with radius 0.5 is 0.785\n"
     ]
    }
   ],
   "source": [
    "def area_of_circle():\n",
    "    radius = float(input(\"Input radius : \"))\n",
    "    area = 3.14*(radius**2)\n",
    "    print(\"Area of a Circle with radius \"+ str(radius) + \" is \" + str(area))\n",
    "area_of_circle()"
   ]
  },
  {
   "cell_type": "markdown",
   "metadata": {},
   "source": [
    "# Check Number either psitive, negative or zero"
   ]
  },
  {
   "cell_type": "code",
   "execution_count": 2,
   "metadata": {},
   "outputs": [
    {
     "name": "stdout",
     "output_type": "stream",
     "text": [
      "Enter Number: -1\n",
      "Negative Number Entered\n"
     ]
    }
   ],
   "source": [
    "def check_number():\n",
    "    number = int(input(\"Enter Number: \"))\n",
    "    if number < 0:\n",
    "        print(\"Negative Number Entered\")\n",
    "    elif number > 0:\n",
    "        print(\"Positive Number Entered\")\n",
    "    else:\n",
    "        print(\"Zero Entered\")\n",
    "\n",
    "check_number()"
   ]
  },
  {
   "cell_type": "markdown",
   "metadata": {},
   "source": [
    "# Divisibility Check of Two Numbers"
   ]
  },
  {
   "cell_type": "code",
   "execution_count": 3,
   "metadata": {},
   "outputs": [
    {
     "name": "stdout",
     "output_type": "stream",
     "text": [
      "Enter numerator : 4\n",
      "Enter denominator : 2\n",
      "Number 4.0 is Completely divisible by 2.0\n"
     ]
    }
   ],
   "source": [
    "def divisibility_check():\n",
    "    nume = float(input(\"Enter numerator : \"))\n",
    "    denom = float(input(\"Enter denominator : \"))\n",
    "    if nume % denom == 0:\n",
    "        print(\"Number \" + str(nume) + \" is Completely divisible by \" + str(denom))\n",
    "    else:\n",
    "        print(\"Number \" + str(nume) + \" is Not Completely divisible by \" + str(denom))\n",
    "        \n",
    "\n",
    "divisibility_check()"
   ]
  },
  {
   "cell_type": "markdown",
   "metadata": {},
   "source": [
    "# Days Calculator"
   ]
  },
  {
   "cell_type": "code",
   "execution_count": 23,
   "metadata": {},
   "outputs": [
    {
     "name": "stdout",
     "output_type": "stream",
     "text": [
      "Enter a date in (dd/mm/yy) format: 12/12/2018\n",
      "Enter a date in (dd/mm/yy) format: 16/12/2018\n",
      "There are 4 days in between 12/12/2018 and 16/12/2018\n"
     ]
    }
   ],
   "source": [
    "# def days_in_dates():\n",
    "#     date1 = input(\"Enter a date in (dd/mm/yy) format : \")\n",
    "#     date2 = input(\"Enter a date in (dd/mm/yy) format : \")\n",
    "#     A = int(date1[:2])\n",
    "#     B = int(date2[:2])\n",
    "#     number_of_days = A - B\n",
    "#     if number_of_days < 0:\n",
    "#         number_of_days = number_of_days * (-1)\n",
    "#     else:\n",
    "#         number_of_days\n",
    "#     print(\"There are \" + str(number_of_days) + \" days in between \" + str(date1) + \" and \" + str(date2))\n",
    "\n",
    "# days_in_dates()\n",
    "\n",
    "from datetime import date\n",
    "userDate = input(\"Enter a date in (dd/mm/yy) format: \")\n",
    "userDate2 = input(\"Enter a date in (dd/mm/yy) format: \")\n",
    "day, month, year = map(int, userDate.split('/'))\n",
    "day2, month2, year2 = map(int, userDate2.split('/'))\n",
    "f_date = date(year, month, day)\n",
    "l_date = date(year2, month2, day2)\n",
    "delta = l_date - f_date\n",
    "print(\"There are \"+str(delta.days)+\" days in between \"+str(userDate)+\" and \"+str(userDate2))"
   ]
  },
  {
   "cell_type": "markdown",
   "metadata": {},
   "source": [
    "### Calculate Volume of a Sphere"
   ]
  },
  {
   "cell_type": "code",
   "execution_count": 5,
   "metadata": {},
   "outputs": [
    {
     "name": "stdout",
     "output_type": "stream",
     "text": [
      "Enter radius of a Sphere : 1\n",
      "volume of a sphere with radius 1.0 is 4.189\n"
     ]
    }
   ],
   "source": [
    "from math import pi as p\n",
    "def sphere_volume():\n",
    "    r = float(input(\"Enter radius of a Sphere : \"))\n",
    "    v = (4/3) * p * (r ** 3)\n",
    "    print(\"volume of a sphere with radius \" + str(r) + \" is \" + str.format('{0:.3f}', v))\n",
    "sphere_volume()"
   ]
  },
  {
   "cell_type": "markdown",
   "metadata": {},
   "source": [
    "## copy string n-times"
   ]
  },
  {
   "cell_type": "code",
   "execution_count": 8,
   "metadata": {},
   "outputs": [
    {
     "name": "stdout",
     "output_type": "stream",
     "text": [
      "Enter String : Hi\n",
      "How many copies of String you Need : 4\n",
      "4 copies of Hi are HiHiHiHi\n"
     ]
    }
   ],
   "source": [
    "def copy_string():\n",
    "    string_copy = \"\"\n",
    "    string = input(\"Enter String : \")\n",
    "    num_copies = int(input(\"How many copies of String you Need : \"))\n",
    "    for i in range(num_copies):\n",
    "        string_copy += string\n",
    "    \n",
    "    print(str(num_copies) + \" copies of \" + string + \" are \" + string_copy)\n",
    "\n",
    "copy_string()\n",
    "    "
   ]
  },
  {
   "cell_type": "markdown",
   "metadata": {},
   "source": [
    "## Even or Odd"
   ]
  },
  {
   "cell_type": "code",
   "execution_count": 10,
   "metadata": {},
   "outputs": [
    {
     "name": "stdout",
     "output_type": "stream",
     "text": [
      "Enter Number : 9\n",
      "9 is Odd\n"
     ]
    }
   ],
   "source": [
    "def even_odd():\n",
    "    num = int(input(\"Enter Number : \"))\n",
    "    if num % 2 == 0:\n",
    "        print(str(num) + \" is Even\")\n",
    "    else:\n",
    "        print(str(num) + \" is Odd\")\n",
    "even_odd()"
   ]
  },
  {
   "cell_type": "markdown",
   "metadata": {},
   "source": [
    "## Vowel Tester"
   ]
  },
  {
   "cell_type": "code",
   "execution_count": 13,
   "metadata": {},
   "outputs": [
    {
     "name": "stdout",
     "output_type": "stream",
     "text": [
      "Enetr a character : N\n",
      "Letter N is not Vowel\n"
     ]
    }
   ],
   "source": [
    "def vowel_tester():\n",
    "    vowels = ['a','e','i','o','u']\n",
    "    char = input(\"Enetr a character : \")\n",
    "    if char not in vowels:\n",
    "        print(\"Letter \" + char.capitalize() + \" is not Vowel\")\n",
    "    else:\n",
    "        print(\"Letter \" + char.capitalize() + \" is Vowel\")\n",
    "\n",
    "vowel_tester()"
   ]
  },
  {
   "cell_type": "markdown",
   "metadata": {},
   "source": [
    "## Area of a Triangle"
   ]
  },
  {
   "cell_type": "code",
   "execution_count": 14,
   "metadata": {},
   "outputs": [
    {
     "name": "stdout",
     "output_type": "stream",
     "text": [
      "Enter magnitude of Triangle base : 4\n",
      "Enter magnitude of Triangle height : 4\n",
      "Area of a Triangle with height 4 and Base 4 is 8.0\n"
     ]
    }
   ],
   "source": [
    "def tri_area():\n",
    "    base = int(input(\"Enter magnitude of Triangle base : \"))\n",
    "    height = int(input(\"Enter magnitude of Triangle height : \"))\n",
    "    area = (base * height) / 2\n",
    "    print(\"Area of a Triangle with height \" + str(height) + \" and Base \" + str(base) + \" is \" + str(area))\n",
    "    \n",
    "tri_area()"
   ]
  },
  {
   "cell_type": "markdown",
   "metadata": {},
   "source": [
    "## Calculate Interest"
   ]
  },
  {
   "cell_type": "code",
   "execution_count": 40,
   "metadata": {},
   "outputs": [
    {
     "name": "stdout",
     "output_type": "stream",
     "text": [
      "please enter principal amount : 10000\n",
      "please enter number of years for investment : 5\n",
      "please enter rate of interest in % : 0.1\n",
      "After 5 years your principal amount 10000 over an interest rate of 0.1 % will be 16105.1\n"
     ]
    }
   ],
   "source": [
    "def interest():\n",
    "    p = int(input(\"please enter principal amount : \"))\n",
    "    t = int(input(\"please enter number of years for investment : \"))\n",
    "    r = float(input(\"please enter rate of interest in % : \"))\n",
    "    intrst = p * ( 1 + r)**t\n",
    "    \n",
    "    print(\"After \" + str(t) + \" years your principal amount \" + str(p) + \" over an interest rate of \" + str(r) + \" % will be \" + str.format('{0:.1f}',intrst))\n",
    "interest()"
   ]
  },
  {
   "cell_type": "markdown",
   "metadata": {},
   "source": [
    "## Euclidean Distance"
   ]
  },
  {
   "cell_type": "code",
   "execution_count": 45,
   "metadata": {},
   "outputs": [
    {
     "name": "stdout",
     "output_type": "stream",
     "text": [
      "Enter Co-ordinate for x1 : 2\n",
      "Enter Co-ordinate for x2 : 4\n",
      "Enter Co-ordinate for y1 : 4\n",
      "Enter Co-ordinate for y2 : 4\n",
      "distance between points (2,4) and (4,4) is 2\n"
     ]
    }
   ],
   "source": [
    "from math import sqrt\n",
    "x1 = int(input(\"Enter Co-ordinate for x1 : \"))\n",
    "x2 = int(input(\"Enter Co-ordinate for x2 : \"))\n",
    "y1 = int(input(\"Enter Co-ordinate for y1 : \"))\n",
    "y2 = int(input(\"Enter Co-ordinate for y2 : \"))\n",
    "eu_dist = int(sqrt(((x1 - y1)**2) + ((x2 - y2)**2)))\n",
    "print(\"distance between points (\"+str(x1)+\",\"+str(y1)+\") and (\" + str(x2) + \",\" + str(y2)+\") is \"+ str(eu_dist))"
   ]
  },
  {
   "cell_type": "markdown",
   "metadata": {},
   "source": [
    "## Ft to Cm"
   ]
  },
  {
   "cell_type": "code",
   "execution_count": 46,
   "metadata": {},
   "outputs": [
    {
     "name": "stdout",
     "output_type": "stream",
     "text": [
      "Enter height in Feet : 5\n",
      "There are 152.4Cm in 5ft\n"
     ]
    }
   ],
   "source": [
    "height = int(input(\"Enter height in Feet : \"))\n",
    "h_cm = height * 30.48\n",
    "print(\"There are \" + str(h_cm) + \"Cm in \" + str(height) + \"ft\")"
   ]
  },
  {
   "cell_type": "markdown",
   "metadata": {},
   "source": [
    "## BMI Calc"
   ]
  },
  {
   "cell_type": "code",
   "execution_count": 50,
   "metadata": {},
   "outputs": [
    {
     "name": "stdout",
     "output_type": "stream",
     "text": [
      "Enter Height in Cm : 180\n",
      "Enter Weight in Kg : 75\n",
      "Your BMI is 23.15\n"
     ]
    }
   ],
   "source": [
    "height = int(input(\"Enter Height in Cm : \"))\n",
    "weight = int(input(\"Enter Weight in Kg : \"))\n",
    "height /= 100\n",
    "height = height**2\n",
    "bmi = weight / (height)\n",
    "print(\"Your BMI is \" + str.format('{:.2f}',bmi))"
   ]
  },
  {
   "cell_type": "markdown",
   "metadata": {},
   "source": [
    "## Sum of n-positive integers"
   ]
  },
  {
   "cell_type": "code",
   "execution_count": 54,
   "metadata": {},
   "outputs": [
    {
     "name": "stdout",
     "output_type": "stream",
     "text": [
      "Enter Value of n : 5\n",
      "Sum of n-positive integers till 5 is 15\n"
     ]
    }
   ],
   "source": [
    "def npos_sum():\n",
    "    npos_sum = 0\n",
    "    n = int(input(\"Enter Value of n : \"))\n",
    "    for i in range(n+1):\n",
    "        npos_sum += i\n",
    "    print(\"Sum of n-positive integers till \" + str(n) + \" is \" + str(npos_sum))\n",
    "npos_sum()"
   ]
  },
  {
   "cell_type": "markdown",
   "metadata": {},
   "source": [
    "## Digits sum of a number"
   ]
  },
  {
   "cell_type": "code",
   "execution_count": 68,
   "metadata": {},
   "outputs": [
    {
     "name": "stdout",
     "output_type": "stream",
     "text": [
      "Enter a number: 15\n",
      "Sum of 1 + 5 is 6\n"
     ]
    }
   ],
   "source": [
    "num = input(\"Enter a number: \")\n",
    "digits = [int(x) for x in str(num)]\n",
    "sum = digits[0] + digits[1]\n",
    "print(\"Sum of \"+ str(digits[0])+ \" + \" + str(digits[1]) + \" is \" + str(sum))"
   ]
  },
  {
   "cell_type": "markdown",
   "metadata": {},
   "source": [
    "## Decimal to binary Converter"
   ]
  },
  {
   "cell_type": "code",
   "execution_count": 3,
   "metadata": {},
   "outputs": [
    {
     "name": "stdout",
     "output_type": "stream",
     "text": [
      "Enter a decimal Number : 5\n",
      "Binary Representation of 5 is 101\n",
      "Enter a binary Number : 101\n",
      "5\n"
     ]
    }
   ],
   "source": [
    "def dec_bin():\n",
    "    decimal = int(input(\"Enter a decimal Number : \" ))\n",
    "    binary = bin(decimal)\n",
    "    print(\"Binary Representation of \" + str(decimal) + \" is \" + str(binary[2:]))\n",
    "dec_bin()\n",
    "def bin_dec():\n",
    "    binary = input(\"Enter a binary Number : \" )\n",
    "    decimal = int(binary, 2)\n",
    "    print(decimal)\n",
    "    #print(\"Deciaml Representation of \" + str(binary) + \" is \" + str(decimal[2:]))\n",
    "bin_dec()"
   ]
  },
  {
   "cell_type": "markdown",
   "metadata": {},
   "source": [
    "## Vowels and conconants "
   ]
  },
  {
   "cell_type": "code",
   "execution_count": 7,
   "metadata": {},
   "outputs": [
    {
     "name": "stdout",
     "output_type": "stream",
     "text": [
      "Enter Text : QuickBrownFoxjumpsOverthedog\n",
      "Vowels: 9\n",
      "Consonants: 19\n"
     ]
    }
   ],
   "source": [
    "text = input(\"Enter Text : \")\n",
    "vowels = ['a','e','i','o','u']\n",
    "vowel = 0\n",
    "consonant = 0\n",
    "for alphabet in text:\n",
    "    if alphabet.lower() not in vowels:\n",
    "        consonant += 1\n",
    "    else:\n",
    "        vowel += 1\n",
    "print(\"Vowels: \" + str(vowel))\n",
    "print(\"Consonants: \" + str(consonant))"
   ]
  },
  {
   "cell_type": "markdown",
   "metadata": {},
   "source": [
    "## Plaindrome"
   ]
  },
  {
   "cell_type": "code",
   "execution_count": 11,
   "metadata": {},
   "outputs": [
    {
     "name": "stdout",
     "output_type": "stream",
     "text": [
      "Enter Text : aha\n",
      "Text aha is a palindrome \n"
     ]
    }
   ],
   "source": [
    "text = input(\"Enter Text : \")\n",
    "palind = text[-1::-1]\n",
    "if text != palind:\n",
    "    print(\"Text \" + text + \" is not a palindrome \")\n",
    "else:\n",
    "    print(\"Text \" + text + \" is a palindrome \")\n"
   ]
  },
  {
   "cell_type": "markdown",
   "metadata": {},
   "source": [
    "## Count Alphabets, Numbers and Special Characters"
   ]
  },
  {
   "cell_type": "code",
   "execution_count": 15,
   "metadata": {},
   "outputs": [
    {
     "name": "stdout",
     "output_type": "stream",
     "text": [
      "Enter Text : Python 3.2\n",
      "Numbers :  2 \n",
      "Alphabets :  6 \n",
      "Special Character :  1 \n",
      "Spaces :  1\n"
     ]
    }
   ],
   "source": [
    "text = input(\"Enter Text : \")\n",
    "digits = 0\n",
    "alphabets = 0\n",
    "special_char = 0\n",
    "spaces = 0\n",
    "for letter in text.lower():\n",
    "    if letter.isdigit():\n",
    "        digits += 1\n",
    "    elif letter.isalpha():\n",
    "        alphabets += 1\n",
    "    elif letter.isspace():\n",
    "        spaces += 1\n",
    "    else:\n",
    "        special_char += 1\n",
    "print(\"Numbers : \" , digits ,\"\\nAlphabets : \", alphabets, \"\\nSpecial Character : \",special_char,\"\\nSpaces : \",spaces)"
   ]
  },
  {
   "cell_type": "code",
   "execution_count": 17,
   "metadata": {},
   "outputs": [
    {
     "name": "stdout",
     "output_type": "stream",
     "text": [
      "* \n",
      "* * \n",
      "* * * \n",
      "* * * * \n",
      "* * * * * \n",
      "* * * * \n",
      "* * * \n",
      "* * \n",
      "* \n"
     ]
    }
   ],
   "source": [
    "n = 1\n",
    "x = 0\n",
    "for n in range(4):\n",
    "    for x in range(n+1):\n",
    "        print('*', end = \" \")\n",
    "    print(\"\")\n",
    "for n in range(4, -1 , -1):\n",
    "    for x in range(n+1):\n",
    "        print('*', end = \" \")\n",
    "    print(\"\")\n",
    "        "
   ]
  },
  {
   "cell_type": "code",
   "execution_count": 18,
   "metadata": {},
   "outputs": [
    {
     "name": "stdout",
     "output_type": "stream",
     "text": [
      "1 \n",
      "1 2 \n",
      "1 2 3 \n",
      "1 2 3 4 \n",
      "1 2 3 4 5 \n",
      "1 2 3 4 \n",
      "1 2 3 \n",
      "1 2 \n",
      "1 \n"
     ]
    }
   ],
   "source": [
    "n = 1\n",
    "x = 0\n",
    "for n in range(4):\n",
    "    num = 1\n",
    "    for x in range(n+1):        \n",
    "        print(num, end = \" \")\n",
    "        num += 1\n",
    "    print(\"\")\n",
    "for n in range(4, -1 , -1):\n",
    "    num = 1\n",
    "    for x in range(n+1):\n",
    "        print(num, end = \" \")        \n",
    "        num += 1\n",
    "    print(\"\")\n",
    "        "
   ]
  },
  {
   "cell_type": "code",
   "execution_count": 19,
   "metadata": {},
   "outputs": [
    {
     "name": "stdout",
     "output_type": "stream",
     "text": [
      "1\n",
      "22\n",
      "333\n",
      "4444\n",
      "55555\n",
      "666666\n",
      "7777777\n",
      "88888888\n",
      "999999999\n"
     ]
    }
   ],
   "source": [
    "n = 1\n",
    "x = 0\n",
    "num = 1\n",
    "for n in range(9):\n",
    "    for x in range(n+1):        \n",
    "        print(num, end = \"\")\n",
    "    num += 1\n",
    "    print(\"\")\n",
    "        "
   ]
  },
  {
   "cell_type": "code",
   "execution_count": null,
   "metadata": {},
   "outputs": [],
   "source": []
  }
 ],
 "metadata": {
  "kernelspec": {
   "display_name": "Python 3",
   "language": "python",
   "name": "python3"
  },
  "language_info": {
   "codemirror_mode": {
    "name": "ipython",
    "version": 3
   },
   "file_extension": ".py",
   "mimetype": "text/x-python",
   "name": "python",
   "nbconvert_exporter": "python",
   "pygments_lexer": "ipython3",
   "version": "3.7.4"
  }
 },
 "nbformat": 4,
 "nbformat_minor": 2
}
