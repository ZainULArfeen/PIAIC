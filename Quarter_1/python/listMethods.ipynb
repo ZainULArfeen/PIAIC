{
 "cells": [
  {
   "cell_type": "code",
   "execution_count": 11,
   "metadata": {},
   "outputs": [
    {
     "name": "stdout",
     "output_type": "stream",
     "text": [
      "['waleed', 'ahmed', 'anas']\n"
     ]
    }
   ],
   "source": [
    "# list declarations\n",
    "friends = ['waleed','ahmed','anas']\n",
    "print(friends)"
   ]
  },
  {
   "cell_type": "code",
   "execution_count": 12,
   "metadata": {},
   "outputs": [
    {
     "name": "stdout",
     "output_type": "stream",
     "text": [
      "['waleed', 'ahmed', 'anas', 'awais']\n"
     ]
    }
   ],
   "source": [
    "# append() : add a single elelment at the end of a list\n",
    "friends.append('awais')\n",
    "print(friends)"
   ]
  },
  {
   "cell_type": "code",
   "execution_count": 17,
   "metadata": {},
   "outputs": [
    {
     "name": "stdout",
     "output_type": "stream",
     "text": [
      "['zain', 'saqlain', 'kmaran']\n",
      "['zain', 'saqlain', 'kmaran', 'waleed', 'ahmed', 'anas', 'awais']\n",
      "['waleed', 'ahmed', 'anas', 'awais']\n"
     ]
    }
   ],
   "source": [
    "# extend() : Add Elements of a List to Another List\n",
    "names = ['zain','saqlain','kmaran']\n",
    "print(names)\n",
    "names.extend(friends)"
   ]
  },
  {
   "cell_type": "code",
   "execution_count": 18,
   "metadata": {},
   "outputs": [
    {
     "name": "stdout",
     "output_type": "stream",
     "text": [
      "['zain', 'zain', 'saqlain', 'kmaran', 'waleed', 'ahmed', 'anas', 'awais']\n",
      "['zain', 'zain', 'saqlain', 'kmaran', 'waleed', 'zain', 'ahmed', 'anas', 'awais']\n",
      "['zain', 'zain', 'saqlain', 'kmaran', 'waleed', 'zain', 'ahmed', 'zain', 'anas', 'awais']\n"
     ]
    }
   ],
   "source": [
    "# insert() : Insert an item at a given position\n",
    "names.insert(0,'zain')\n",
    "print(names)\n",
    "names.insert(5,'zain')\n",
    "print(names)\n",
    "names.insert(7,'zain')\n",
    "print(names)"
   ]
  },
  {
   "cell_type": "code",
   "execution_count": 39,
   "metadata": {},
   "outputs": [
    {
     "name": "stdout",
     "output_type": "stream",
     "text": [
      "['zain', 'zain', 'saqlain', 'kmaran', 'waleed', 'zain', 'zain', 'anas', 'awais']\n"
     ]
    }
   ],
   "source": [
    "# pop() : Remove the item at the given position in the list, and return it\n",
    "names.pop(6)\n",
    "print(names)"
   ]
  },
  {
   "cell_type": "code",
   "execution_count": 43,
   "metadata": {},
   "outputs": [
    {
     "name": "stdout",
     "output_type": "stream",
     "text": [
      "['orange', 'pear', 'banana', 'kiwi', 'apple', 'banana']\n"
     ]
    }
   ],
   "source": [
    "# remove(x) : Remove the first item from the list, whose value is equal to 'x'\n",
    "fruits = ['orange', 'apple', 'pear', 'banana', 'kiwi', 'apple', 'banana']\n",
    "fruits.remove('apple')\n",
    "print(fruits)"
   ]
  },
  {
   "cell_type": "code",
   "execution_count": 48,
   "metadata": {},
   "outputs": [
    {
     "name": "stdout",
     "output_type": "stream",
     "text": [
      "4\n",
      "0\n",
      "3\n"
     ]
    }
   ],
   "source": [
    "# Index() : returns smallest index of element in list\n",
    "print(fruits.index('apple'))\n",
    "print(fruits.index('orange'))\n",
    "print(fruits.index('kiwi'))"
   ]
  },
  {
   "cell_type": "code",
   "execution_count": 57,
   "metadata": {},
   "outputs": [
    {
     "name": "stdout",
     "output_type": "stream",
     "text": [
      "1\n",
      "3\n"
     ]
    }
   ],
   "source": [
    "# count() : returns occurrences of element in a list\n",
    "print(fruits.count('orange'))\n",
    "print(names.count('zain'))"
   ]
  },
  {
   "cell_type": "code",
   "execution_count": 58,
   "metadata": {},
   "outputs": [
    {
     "name": "stdout",
     "output_type": "stream",
     "text": [
      "['apple', 'banana', 'banana', 'kiwi', 'orange', 'pear']\n"
     ]
    }
   ],
   "source": [
    "# sort() : sort the items of the list in place\n",
    "fruits.sort()\n",
    "print(fruits)"
   ]
  },
  {
   "cell_type": "code",
   "execution_count": 59,
   "metadata": {},
   "outputs": [
    {
     "data": {
      "text/plain": [
       "['pear', 'orange', 'kiwi', 'banana', 'banana', 'apple']"
      ]
     },
     "execution_count": 59,
     "metadata": {},
     "output_type": "execute_result"
    }
   ],
   "source": [
    "fruits.sort(reverse=True)\n",
    "fruits"
   ]
  },
  {
   "cell_type": "code",
   "execution_count": 60,
   "metadata": {},
   "outputs": [
    {
     "data": {
      "text/plain": [
       "['u', 'o', 'i', 'e', 'a']"
      ]
     },
     "execution_count": 60,
     "metadata": {},
     "output_type": "execute_result"
    }
   ],
   "source": [
    "# reverse() : Reverse the elements of the list in place\n",
    "vowels = ['a','e','i','o','u']\n",
    "vowels.reverse()\n",
    "vowels"
   ]
  },
  {
   "cell_type": "code",
   "execution_count": 61,
   "metadata": {},
   "outputs": [
    {
     "name": "stdout",
     "output_type": "stream",
     "text": [
      "['u', 'o', 'i', 'e', 'a']\n"
     ]
    }
   ],
   "source": [
    "# copy() : Return a shallow copy of the list\n",
    "vowels.copy()\n",
    "print(vowels)"
   ]
  },
  {
   "cell_type": "code",
   "execution_count": 4,
   "metadata": {},
   "outputs": [
    {
     "data": {
      "text/plain": [
       "[]"
      ]
     },
     "execution_count": 4,
     "metadata": {},
     "output_type": "execute_result"
    }
   ],
   "source": [
    "# clear() : Remove all items from the list\n",
    "v = ['a','b','c']\n",
    "v.clear()\n",
    "v"
   ]
  },
  {
   "cell_type": "code",
   "execution_count": 7,
   "metadata": {},
   "outputs": [
    {
     "data": {
      "text/plain": [
       "['A', 'B', 'C', 'G']"
      ]
     },
     "execution_count": 7,
     "metadata": {},
     "output_type": "execute_result"
    }
   ],
   "source": [
    "list = ['A','B','C']\n",
    "list.__add__([\"G\"])"
   ]
  },
  {
   "cell_type": "code",
   "execution_count": 8,
   "metadata": {},
   "outputs": [
    {
     "data": {
      "text/plain": [
       "list"
      ]
     },
     "execution_count": 8,
     "metadata": {},
     "output_type": "execute_result"
    }
   ],
   "source": [
    "list.__class__"
   ]
  },
  {
   "cell_type": "code",
   "execution_count": null,
   "metadata": {},
   "outputs": [],
   "source": []
  }
 ],
 "metadata": {
  "kernelspec": {
   "display_name": "Python 3",
   "language": "python",
   "name": "python3"
  },
  "language_info": {
   "codemirror_mode": {
    "name": "ipython",
    "version": 3
   },
   "file_extension": ".py",
   "mimetype": "text/x-python",
   "name": "python",
   "nbconvert_exporter": "python",
   "pygments_lexer": "ipython3",
   "version": "3.7.4"
  }
 },
 "nbformat": 4,
 "nbformat_minor": 2
}
