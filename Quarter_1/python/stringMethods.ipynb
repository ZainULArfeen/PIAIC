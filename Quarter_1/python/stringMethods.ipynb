{
 "cells": [
  {
   "cell_type": "code",
   "execution_count": 2,
   "metadata": {},
   "outputs": [
    {
     "name": "stdout",
     "output_type": "stream",
     "text": [
      "Zain ul arfeen\n"
     ]
    }
   ],
   "source": [
    "# capitalize: Converts first character to Capital Letter\n",
    "name = \"zain ul arfeen\"\n",
    "print(name.capitalize())"
   ]
  },
  {
   "cell_type": "code",
   "execution_count": 4,
   "metadata": {},
   "outputs": [
    {
     "name": "stdout",
     "output_type": "stream",
     "text": [
      "zain ul arfeen\n"
     ]
    }
   ],
   "source": [
    "# casefold: converts to casefolded(lower case) strings\n",
    "name = \"Zain UL ArfeEn\"\n",
    "print(name.casefold())"
   ]
  },
  {
   "cell_type": "code",
   "execution_count": 19,
   "metadata": {},
   "outputs": [
    {
     "name": "stdout",
     "output_type": "stream",
     "text": [
      "      Pakistan Zindabad       \n",
      "------Pakistan Zindabad-------\n"
     ]
    }
   ],
   "source": [
    "# center: Pads string with specified character, parameters(width,fillchar)\n",
    "string = \"Pakistan Zindabad\"\n",
    "print(string.center(30))\n",
    "# optional parameter\n",
    "string = \"Pakistan Zindabad\"\n",
    "print(string.center(30,'-'))\n"
   ]
  },
  {
   "cell_type": "code",
   "execution_count": 28,
   "metadata": {},
   "outputs": [
    {
     "name": "stdout",
     "output_type": "stream",
     "text": [
      "10\n",
      "1\n",
      "3\n"
     ]
    }
   ],
   "source": [
    "# count: returns occurrences of substring in string\n",
    "string = \"Is time an illusion created within our minds? Or is it a dimension.\"\n",
    "print(string.count(\"i\"))\n",
    "\n",
    "string = \"Is time an illusion created within our minds? Or is it a dimension.\"\n",
    "print(string.count(\"is\"))\n",
    "\n",
    "# optional parameters count(\"substring\",start,end\")\n",
    "string = \"Is time an illusion created within our minds? Or is it a dimension.\"\n",
    "print(string.count(\"i\",8,30))"
   ]
  },
  {
   "cell_type": "code",
   "execution_count": 32,
   "metadata": {},
   "outputs": [
    {
     "name": "stdout",
     "output_type": "stream",
     "text": [
      "PAKISTAN!\n",
      "b'PAKISTAN!'\n"
     ]
    }
   ],
   "source": [
    "# encode: returns encoded string of given string\n",
    "string = \"PAKISTAN!\"\n",
    "print(string)\n",
    "print(string.encode())"
   ]
  },
  {
   "cell_type": "code",
   "execution_count": 35,
   "metadata": {},
   "outputs": [
    {
     "name": "stdout",
     "output_type": "stream",
     "text": [
      "False\n",
      "True\n",
      "False\n",
      "True\n"
     ]
    }
   ],
   "source": [
    "# endswith: Checks if String Ends with the Specified Suffix\n",
    "string = \"Is time an illusion created within our minds? Or is it a dimension.\"\n",
    "print(string.endswith(\"is it a dimension\"))\n",
    "print(string.endswith(\"is it a dimension.\"))\n",
    "\n",
    "# parameters(\"string,start,end\")\n",
    "print(string.endswith(\"is it a dimension.\",0,16))\n",
    "print(string.endswith(\"is it a dimension.\",30,70))"
   ]
  },
  {
   "cell_type": "code",
   "execution_count": 42,
   "metadata": {},
   "outputs": [
    {
     "name": "stdout",
     "output_type": "stream",
     "text": [
      "PAKISTAN        ZINDABAD\n",
      "PAKISTAN    ZINDABAD\n",
      "PAKISTAN            ZINDABAD\n"
     ]
    }
   ],
   "source": [
    "# expandtabs: Replaces Tab character With Spaces\n",
    "string = \"PAKISTAN\\tZINDABAD\"\n",
    "print(string.expandtabs())\n",
    "print(string.expandtabs(4))\n",
    "print(string.expandtabs(20))"
   ]
  },
  {
   "cell_type": "code",
   "execution_count": 47,
   "metadata": {},
   "outputs": [
    {
     "name": "stdout",
     "output_type": "stream",
     "text": [
      "11\n",
      "-1\n",
      "11\n"
     ]
    }
   ],
   "source": [
    "# find: Returns the index of first occurrence of substring\n",
    "string = \"Is time an illusion created within our minds? Or is it a dimension.\"\n",
    "print(string.find(\"illusion\"))\n",
    "\n",
    "print(string.find(\"illusion\",20,30))\n",
    "print(string.find(\"illusion\",8,30))\n"
   ]
  },
  {
   "cell_type": "code",
   "execution_count": 56,
   "metadata": {},
   "outputs": [
    {
     "name": "stdout",
     "output_type": "stream",
     "text": [
      "hello zain, its 10:30 AM\n",
      "hello 10:30 AM, its zain\n",
      "hello zain, its 10:30 AM\n",
      "4,-4\n",
      "-4,4\n"
     ]
    }
   ],
   "source": [
    "# format: formats string into nicer output\n",
    "print(\"hello {}, its {}\".format(\"zain\",\"10:30 AM\"))\n",
    "print(\"hello {1}, its {0}\".format(\"zain\",\"10:30 AM\"))\n",
    "print(\"hello {0}, its {1}\".format(\"zain\",\"10:30 AM\"))\n",
    "# working with dict\n",
    "point = {'x':4,'y':-4}\n",
    "print('{x},{y}'.format(**point))\n",
    "print('{y},{x}'.format(**point))"
   ]
  },
  {
   "cell_type": "code",
   "execution_count": 59,
   "metadata": {},
   "outputs": [
    {
     "name": "stdout",
     "output_type": "stream",
     "text": [
      "4 -4\n",
      "4 -5 0\n"
     ]
    }
   ],
   "source": [
    "# format_map: Formats the String Using Dictionary\n",
    "point = {'x':4,'y':-4}\n",
    "print('{x} {y}'.format_map(point))\n",
    "\n",
    "point = {'x':4,'y':-5, 'z': 0}\n",
    "print('{x} {y} {z}'.format_map(point))"
   ]
  },
  {
   "cell_type": "code",
   "execution_count": 68,
   "metadata": {},
   "outputs": [
    {
     "name": "stdout",
     "output_type": "stream",
     "text": [
      "39\n",
      "39\n"
     ]
    }
   ],
   "source": [
    "# index: Returns Index of Substring\n",
    "string = \"Is time an illusion created within our minds? Or is it a dimension.\"\n",
    "print(string.index('minds'))\n",
    "\n",
    "print(string.index('minds',12 ,48))"
   ]
  },
  {
   "cell_type": "code",
   "execution_count": 74,
   "metadata": {},
   "outputs": [
    {
     "name": "stdout",
     "output_type": "stream",
     "text": [
      "True\n",
      "True\n",
      "True\n",
      "False\n"
     ]
    }
   ],
   "source": [
    "# isalnum: Checks Alphanumeric Character\n",
    "string = \"error404\"\n",
    "print(string.isalnum())\n",
    "string1 = \"1222\"\n",
    "print(string1.isalnum())\n",
    "string1 = \"abc\"\n",
    "print(string1.isalnum())\n",
    "string1 = \"abc@123\"\n",
    "print(string1.isalnum())"
   ]
  },
  {
   "cell_type": "code",
   "execution_count": 79,
   "metadata": {},
   "outputs": [
    {
     "name": "stdout",
     "output_type": "stream",
     "text": [
      "True\n",
      "False\n"
     ]
    }
   ],
   "source": [
    "# isalpha\n",
    "string = \"pakistan\"\n",
    "print(string.isalpha())\n",
    "\n",
    "string = \"abc def\"\n",
    "print(string1.isalpha())\n"
   ]
  },
  {
   "cell_type": "code",
   "execution_count": 86,
   "metadata": {},
   "outputs": [
    {
     "name": "stdout",
     "output_type": "stream",
     "text": [
      "False\n",
      "True\n"
     ]
    }
   ],
   "source": [
    "# isdigit\n",
    "string = \"abc\"\n",
    "print(string.isdigit())\n",
    "\n",
    "string = \"1\"\n",
    "print(string.isdigit())"
   ]
  },
  {
   "cell_type": "code",
   "execution_count": 90,
   "metadata": {},
   "outputs": [
    {
     "name": "stdout",
     "output_type": "stream",
     "text": [
      "True\n",
      "False\n"
     ]
    }
   ],
   "source": [
    "# isdecimal\n",
    "string = \"100\"\n",
    "print(string.isdecimal())\n",
    "\n",
    "string = \"100.09\"\n",
    "print(string.isdecimal())"
   ]
  },
  {
   "cell_type": "code",
   "execution_count": 102,
   "metadata": {},
   "outputs": [
    {
     "name": "stdout",
     "output_type": "stream",
     "text": [
      "True\n"
     ]
    }
   ],
   "source": [
    "# isprintable\n",
    "string = 'p a k i s t a n z i n d a b a d'\n",
    "print(string.isprintable())\n"
   ]
  },
  {
   "cell_type": "code",
   "execution_count": 111,
   "metadata": {},
   "outputs": [
    {
     "name": "stdout",
     "output_type": "stream",
     "text": [
      "True\n",
      "False\n"
     ]
    }
   ],
   "source": [
    "# isspace\n",
    "string = \"                   \"\n",
    "print(string.isspace())\n",
    "\n",
    "\n",
    "string = \"           space        \"\n",
    "print(string.isspace())"
   ]
  },
  {
   "cell_type": "code",
   "execution_count": 113,
   "metadata": {},
   "outputs": [
    {
     "name": "stdout",
     "output_type": "stream",
     "text": [
      "True\n"
     ]
    },
    {
     "data": {
      "text/plain": [
       "False"
      ]
     },
     "execution_count": 113,
     "metadata": {},
     "output_type": "execute_result"
    }
   ],
   "source": [
    "# islower\n",
    "string = \"pakistan zindabad\"\n",
    "print(string.islower())\n",
    "\n",
    "s = \"Pakistan Zindabad\"\n",
    "s.islower()"
   ]
  },
  {
   "cell_type": "code",
   "execution_count": 116,
   "metadata": {},
   "outputs": [
    {
     "name": "stdout",
     "output_type": "stream",
     "text": [
      "True\n"
     ]
    },
    {
     "data": {
      "text/plain": [
       "False"
      ]
     },
     "execution_count": 116,
     "metadata": {},
     "output_type": "execute_result"
    }
   ],
   "source": [
    "# isnumeric\n",
    "s = \"123\"\n",
    "print(s.isnumeric())\n",
    "word = \"key12\"\n",
    "word.isnumeric()"
   ]
  },
  {
   "cell_type": "code",
   "execution_count": 130,
   "metadata": {},
   "outputs": [
    {
     "name": "stdout",
     "output_type": "stream",
     "text": [
      "True\n",
      "False\n"
     ]
    },
    {
     "data": {
      "text/plain": [
       "True"
      ]
     },
     "execution_count": 130,
     "metadata": {},
     "output_type": "execute_result"
    }
   ],
   "source": [
    "# isidentifier\n",
    "string = 'def'\n",
    "print(string.isidentifier())\n",
    "\n",
    "word = 'c++'\n",
    "print(word.isidentifier())\n",
    "\n",
    "s = \"python\"\n",
    "s.isidentifier()"
   ]
  },
  {
   "cell_type": "code",
   "execution_count": 134,
   "metadata": {},
   "outputs": [
    {
     "name": "stdout",
     "output_type": "stream",
     "text": [
      "False\n",
      "True\n",
      "False\n",
      "True\n"
     ]
    }
   ],
   "source": [
    "# istitle\n",
    "string = \"this is awesome\"\n",
    "print(string.istitle())\n",
    "\n",
    "string = \"This Is Awesome\"\n",
    "print(string.istitle())\n",
    "\n",
    "string = \"This is Awesome\"\n",
    "print(string.istitle())\n",
    "string = \"11 This Is @ Awesome\"\n",
    "print(string.istitle())\n"
   ]
  },
  {
   "cell_type": "code",
   "execution_count": 136,
   "metadata": {},
   "outputs": [
    {
     "name": "stdout",
     "output_type": "stream",
     "text": [
      "True\n",
      "False\n"
     ]
    }
   ],
   "source": [
    "# isupper\n",
    "string = \"CAPITALIZED\"\n",
    "print(string.isupper())\n",
    "\n",
    "string = \"this is awesome\"\n",
    "print(string.isupper())\n"
   ]
  },
  {
   "cell_type": "code",
   "execution_count": 137,
   "metadata": {},
   "outputs": [
    {
     "name": "stdout",
     "output_type": "stream",
     "text": [
      "a,b,c,d,e,f,g,h\n"
     ]
    }
   ],
   "source": [
    "# join : returns a concatinated string\n",
    "string = 'abcdefgh'\n",
    "sep = ','\n",
    "print(sep.join(string))"
   ]
  },
  {
   "cell_type": "code",
   "execution_count": 141,
   "metadata": {},
   "outputs": [
    {
     "name": "stdout",
     "output_type": "stream",
     "text": [
      "babar     azam\n",
      "babar-----azam\n"
     ]
    }
   ],
   "source": [
    "# ljust: returns left-justified string of given width\n",
    "s = \"babar\"\n",
    "print(s.ljust(10) + \"azam\")\n",
    "print(s.ljust(10,'-') + \"azam\")"
   ]
  },
  {
   "cell_type": "code",
   "execution_count": 142,
   "metadata": {},
   "outputs": [
    {
     "data": {
      "text/plain": [
       "'babar azam'"
      ]
     },
     "execution_count": 142,
     "metadata": {},
     "output_type": "execute_result"
    }
   ],
   "source": [
    "# lower\n",
    "s = \"BABAR AZAM\"\n",
    "s.lower()"
   ]
  },
  {
   "cell_type": "code",
   "execution_count": 150,
   "metadata": {},
   "outputs": [
    {
     "name": "stdout",
     "output_type": "stream",
     "text": [
      "PAKISTAN    Zindabad    zindabad\n",
      "   PAKISTAN    Zindabad    zindabad   \n",
      "PAKISTAN    Zindabad    zindabad   \n",
      "   PAKISTAN    Zindabad    zindabad\n"
     ]
    }
   ],
   "source": [
    "# strip , rstrip, lstrip\n",
    "s = \"   PAKISTAN    Zindabad    zindabad   \"\n",
    "print(s.strip())\n",
    "print(s.strip('zindabad'))\n",
    "print(s.lstrip())\n",
    "print(s.rstrip())"
   ]
  },
  {
   "cell_type": "code",
   "execution_count": 152,
   "metadata": {},
   "outputs": [
    {
     "name": "stdout",
     "output_type": "stream",
     "text": [
      "('Python ', 'is ', 'fun')\n"
     ]
    }
   ],
   "source": [
    "# partition : Returns a Tuple\n",
    "string = \"Python is fun\"\n",
    "print(string.partition('is '))"
   ]
  },
  {
   "cell_type": "code",
   "execution_count": 153,
   "metadata": {},
   "outputs": [
    {
     "name": "stdout",
     "output_type": "stream",
     "text": [
      "('Python ', 'is ', 'fun')\n"
     ]
    }
   ],
   "source": [
    "# rpartition\n",
    "string = \"Python is fun\"\n",
    "print(string.rpartition('is '))"
   ]
  },
  {
   "cell_type": "code",
   "execution_count": 156,
   "metadata": {},
   "outputs": [
    {
     "name": "stdout",
     "output_type": "stream",
     "text": [
      "['Python', 'is', 'fun']\n",
      "['Python', 'is', 'fun']\n"
     ]
    }
   ],
   "source": [
    "# split : Splits String from Left and returns a list\n",
    "string = \"Python is fun\"\n",
    "print(string.split())\n",
    "\n",
    "print(string.rsplit())"
   ]
  },
  {
   "cell_type": "code",
   "execution_count": 157,
   "metadata": {},
   "outputs": [
    {
     "name": "stdout",
     "output_type": "stream",
     "text": [
      "['Milk', 'Chicken', 'Bread', 'Butter']\n",
      "['Milk\\n', 'Chicken\\r\\n', 'Bread\\r', 'Butter']\n",
      "['Milk Chicken Bread Butter']\n"
     ]
    }
   ],
   "source": [
    "# splitlines: Splits String at Line Boundaries and returns a list\n",
    "grocery = 'Milk\\nChicken\\r\\nBread\\rButter'\n",
    "\n",
    "print(grocery.splitlines())\n",
    "print(grocery.splitlines(True))\n",
    "\n",
    "grocery = 'Milk Chicken Bread Butter'\n",
    "print(grocery.splitlines())"
   ]
  },
  {
   "cell_type": "code",
   "execution_count": 163,
   "metadata": {},
   "outputs": [
    {
     "name": "stdout",
     "output_type": "stream",
     "text": [
      "True\n",
      "False\n",
      "True\n"
     ]
    }
   ],
   "source": [
    "# startswith and endswith\n",
    "string =  \"Is time an illusion created within our minds? Or is it a dimension.\"\n",
    "print(string.startswith('Is'))\n",
    "print(string.endswith(\"dimension\"))\n",
    "print(string.endswith('dimension.'))"
   ]
  },
  {
   "cell_type": "code",
   "execution_count": 164,
   "metadata": {},
   "outputs": [
    {
     "name": "stdout",
     "output_type": "stream",
     "text": [
      "pakistan ZINDABAD\n"
     ]
    }
   ],
   "source": [
    "# swapcase: swap uppercase characters to lowercase; vice versa\n",
    "string = \"PAKISTAN zindabad\"\n",
    "print(string.swapcase())"
   ]
  },
  {
   "cell_type": "code",
   "execution_count": 165,
   "metadata": {},
   "outputs": [
    {
     "name": "stdout",
     "output_type": "stream",
     "text": [
      "0program is fun\n",
      "000000program is fun\n",
      "program is fun\n"
     ]
    }
   ],
   "source": [
    "# zfill: returns a copy of the string with '0' characters padded to the left.\n",
    "text = \"program is fun\"\n",
    "print(text.zfill(15))\n",
    "print(text.zfill(20))\n",
    "print(text.zfill(10))\n"
   ]
  },
  {
   "cell_type": "code",
   "execution_count": null,
   "metadata": {},
   "outputs": [],
   "source": []
  }
 ],
 "metadata": {
  "kernelspec": {
   "display_name": "Python 3",
   "language": "python",
   "name": "python3"
  },
  "language_info": {
   "codemirror_mode": {
    "name": "ipython",
    "version": 3
   },
   "file_extension": ".py",
   "mimetype": "text/x-python",
   "name": "python",
   "nbconvert_exporter": "python",
   "pygments_lexer": "ipython3",
   "version": "3.7.4"
  }
 },
 "nbformat": 4,
 "nbformat_minor": 2
}
