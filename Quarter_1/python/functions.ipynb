{
 "cells": [
  {
   "cell_type": "raw",
   "metadata": {},
   "source": [
    "functions: set of statement.\n",
    "\n",
    "    required functions: without this args func cant work\n",
    "    optionl arguments: extra argument \n",
    "    return: position matters\n",
    "    no return\n",
    "    defult argument\n",
    "    positional arguments: \n",
    "    keyword arguments: position does'nt matter\n",
    "    argument with list\n",
    "    argument with dictionary\n",
    "    recursive function: \n",
    "    generator function: remembers its old value\n",
    "    lambda func: one line function \n",
    "  Types:\n",
    "    predefined functions: built in functions\n",
    "    user defined functions: functions build "
   ]
  },
  {
   "cell_type": "markdown",
   "metadata": {},
   "source": [
    "# predefined functions"
   ]
  },
  {
   "cell_type": "code",
   "execution_count": 5,
   "metadata": {},
   "outputs": [
    {
     "name": "stdout",
     "output_type": "stream",
     "text": [
      "abc\n",
      "9\n",
      "<class 'int'>\n",
      "1615896047472\n"
     ]
    }
   ],
   "source": [
    "print(\"abc\")\n",
    "print(len(\"asdasdasd\"))\n",
    "print(type(22))\n",
    "print(id(\"a\"))"
   ]
  },
  {
   "cell_type": "markdown",
   "metadata": {},
   "source": [
    "\n",
    "# Usedefined Functions"
   ]
  },
  {
   "cell_type": "code",
   "execution_count": 6,
   "metadata": {},
   "outputs": [
    {
     "name": "stdout",
     "output_type": "stream",
     "text": [
      "pakistan zindabad\n"
     ]
    }
   ],
   "source": [
    "#Default Argument\n",
    "def pakistanZindabad():\n",
    "    print(\"pakistan zindabad\")\n",
    "    \n",
    "pakistanZindabad()\n"
   ]
  },
  {
   "cell_type": "markdown",
   "metadata": {},
   "source": [
    "# Required Argument"
   ]
  },
  {
   "cell_type": "code",
   "execution_count": 15,
   "metadata": {},
   "outputs": [
    {
     "name": "stdout",
     "output_type": "stream",
     "text": [
      "\n",
      "        PIAIC ISLAMABAD\n",
      "        id : 1645\n",
      "        Name : Zain\n",
      "        father's Name :Arfeen\n",
      "        course : AI\n",
      "        timing : 900-1200\n",
      "    \n",
      "\n",
      "        PIAIC ISLAMABAD\n",
      "        id : 1693\n",
      "        Name : waleed\n",
      "        father's Name :khan\n",
      "        course : AI\n",
      "        timing : 1200-3000\n",
      "    \n"
     ]
    }
   ],
   "source": [
    "\n",
    "def id_card(sid,sname,fname,course,timing):\n",
    "    text = \"\"\"\n",
    "        PIAIC ISLAMABAD\n",
    "        id : {}\n",
    "        Name : {}\n",
    "        father's Name :{}\n",
    "        course : {}\n",
    "        timing : {}\n",
    "    \"\"\".format(sid,sname,fname,course,timing)\n",
    "    print(text)\n",
    "\n",
    "id_card(1645,\"Zain\",\"Arfeen\",\"AI\",\"900-1200\")\n",
    "id_card(1693,\"waleed\",\"khan\",\"AI\",\"1200-3000\")\n"
   ]
  },
  {
   "cell_type": "code",
   "execution_count": 16,
   "metadata": {},
   "outputs": [
    {
     "name": "stdout",
     "output_type": "stream",
     "text": [
      "\n",
      "        PIAIC ISLAMABAD\n",
      "        id : 1\n",
      "        Name : Ali\n",
      "        father's Name :Arshad\n",
      "        course : AI\n",
      "        timing : 9 to 12\n",
      "    \n",
      "\n",
      "        PIAIC ISLAMABAD\n",
      "        id : 2\n",
      "        Name : Hamza\n",
      "        father's Name :Arshad\n",
      "        course : AI\n",
      "        timing : 9 to 12\n",
      "    \n",
      "\n",
      "        PIAIC ISLAMABAD\n",
      "        id : 3\n",
      "        Name : Waleed\n",
      "        father's Name :hafeez\n",
      "        course : AI\n",
      "        timing : 9 to 12\n",
      "    \n",
      "\n",
      "        PIAIC ISLAMABAD\n",
      "        id : 4\n",
      "        Name : Hamza\n",
      "        father's Name :shafi\n",
      "        course : AI\n",
      "        timing : 9 to 12\n",
      "    \n"
     ]
    }
   ],
   "source": [
    "data = [[1,\"Ali\",\"Arshad\",\"AI\",\"9 to 12\"],\n",
    "        [2,\"Hamza\",\"Arshad\",\"AI\",\"9 to 12\"],\n",
    "        [3,\"Waleed\",\"hafeez\",\"AI\",\"9 to 12\"],\n",
    "        [4,\"Hamza\",\"shafi\",\"AI\",\"9 to 12\"]]\n",
    "\n",
    "for v in data:\n",
    "    id_card(*v)\n",
    "    \n",
    "# id_card(v[0],v[1],v[2],v[3])"
   ]
  },
  {
   "cell_type": "markdown",
   "metadata": {},
   "source": [
    "# Optional Argument"
   ]
  },
  {
   "cell_type": "code",
   "execution_count": 18,
   "metadata": {},
   "outputs": [
    {
     "name": "stdout",
     "output_type": "stream",
     "text": [
      "5\n",
      "12\n",
      "20\n"
     ]
    }
   ],
   "source": [
    "def optional_Args(x,y=0,z=0):\n",
    "    print(x+y+z)\n",
    "    \n",
    "optional_Args(5)\n",
    "optional_Args(5,7)\n",
    "optional_Args(5,7,8)\n",
    "\n",
    "    "
   ]
  },
  {
   "cell_type": "raw",
   "metadata": {},
   "source": [
    "Return Functions: on call gives result but we can assign its value to variable\n",
    "no-Retuen :  on call gives result but we can not assign its value to variable"
   ]
  },
  {
   "cell_type": "markdown",
   "metadata": {},
   "source": [
    "# Return Function"
   ]
  },
  {
   "cell_type": "code",
   "execution_count": 25,
   "metadata": {},
   "outputs": [
    {
     "name": "stdout",
     "output_type": "stream",
     "text": [
      "\n",
      "        PIAIC ISLAMABAD\n",
      "        id : 12\n",
      "        Name : Ali\n",
      "        father's Name :Baba\n",
      "        course : choar\n",
      "        timing : chaali\n",
      "     qasim Ali\n"
     ]
    }
   ],
   "source": [
    "def id_card(sid,sname,fname,course,timing):\n",
    "    text = \"\"\"\n",
    "        PIAIC ISLAMABAD\n",
    "        id : {}\n",
    "        Name : {}\n",
    "        father's Name :{}\n",
    "        course : {}\n",
    "        timing : {}\n",
    "    \"\"\".format(sid,sname,fname,course,timing)\n",
    "    return text,\"qasim\",\"Ali\"\n",
    "\n",
    "print(*id_card(12,\"Ali\",\"Baba\",\"choar\",\"chaali\"))"
   ]
  },
  {
   "cell_type": "code",
   "execution_count": 27,
   "metadata": {},
   "outputs": [
    {
     "data": {
      "text/plain": [
       "12"
      ]
     },
     "execution_count": 27,
     "metadata": {},
     "output_type": "execute_result"
    }
   ],
   "source": [
    "def abc(x=0,y=0,z=0):\n",
    "    return x*y*z\n",
    "\n",
    "abc(2,2,3)"
   ]
  },
  {
   "cell_type": "markdown",
   "metadata": {},
   "source": [
    "# Keyword Arguments"
   ]
  },
  {
   "cell_type": "code",
   "execution_count": 28,
   "metadata": {},
   "outputs": [
    {
     "name": "stdout",
     "output_type": "stream",
     "text": [
      "\n",
      "        PIAIC ISLAMABAD\n",
      "        id : 1654\n",
      "        Name : Zain\n",
      "        father's Name :Arfeen\n",
      "        course : AI\n",
      "        timing : 900-1200\n",
      "    \n"
     ]
    }
   ],
   "source": [
    "def id_card(sid,sname,fname,course,timing):\n",
    "    text = \"\"\"\n",
    "        PIAIC ISLAMABAD\n",
    "        id : {}\n",
    "        Name : {}\n",
    "        father's Name :{}\n",
    "        course : {}\n",
    "        timing : {}\n",
    "    \"\"\".format(sid,sname,fname,course,timing)\n",
    "    return text\n",
    "\n",
    "print(id_card(sname=\"Zain\",fname=\"Arfeen\",sid=\"1654\",course=\"AI\",timing=\"900-1200\"))"
   ]
  },
  {
   "cell_type": "code",
   "execution_count": 30,
   "metadata": {},
   "outputs": [
    {
     "name": "stdout",
     "output_type": "stream",
     "text": [
      "\n",
      "        PIAIC ISLAMABAD\n",
      "        id : 1645\n",
      "        Name : Zain\n",
      "        father's Name :Arfeen\n",
      "        course : AI\n",
      "        timing : 900-1200\n",
      "    \n"
     ]
    }
   ],
   "source": [
    "def id_card(sid,sname,fname,course,timing):\n",
    "    text = \"\"\"\n",
    "        PIAIC ISLAMABAD\n",
    "        id : {}\n",
    "        Name : {}\n",
    "        father's Name :{}\n",
    "        course : {}\n",
    "        timing : {}\n",
    "    \"\"\".format(sid,sname,fname,course,timing)\n",
    "    return text\n",
    "#first put positional arguments than keyword args\n",
    "print(id_card(1645,\"Zain\",fname=\"Arfeen\",timing=\"900-1200\",course=\"AI\"))"
   ]
  },
  {
   "cell_type": "markdown",
   "metadata": {},
   "source": [
    "# Argumnets with List"
   ]
  },
  {
   "cell_type": "code",
   "execution_count": 31,
   "metadata": {},
   "outputs": [
    {
     "name": "stdout",
     "output_type": "stream",
     "text": [
      "\n",
      "        PIAIC ISLAMABAD\n",
      "        id : 1\n",
      "        Name : Ali\n",
      "        father's Name :Arshad\n",
      "        course : AI\n",
      "        timing : 9 to 12\n",
      "    \n"
     ]
    }
   ],
   "source": [
    "def id_card(sid,sname,fname,course,timing):\n",
    "    text = \"\"\"\n",
    "        PIAIC ISLAMABAD\n",
    "        id : {}\n",
    "        Name : {}\n",
    "        father's Name :{}\n",
    "        course : {}\n",
    "        timing : {}\n",
    "    \"\"\".format(sid,sname,fname,course,timing)\n",
    "    return text\n",
    "\n",
    "l1 = [1,\"Ali\",\"Arshad\",\"AI\",\"9 to 12\"];\n",
    "\n",
    "print(id_card(*l1))"
   ]
  },
  {
   "cell_type": "markdown",
   "metadata": {},
   "source": [
    "# Argument with Dictionary"
   ]
  },
  {
   "cell_type": "code",
   "execution_count": 35,
   "metadata": {},
   "outputs": [
    {
     "name": "stdout",
     "output_type": "stream",
     "text": [
      "\n",
      "        PIAIC ISLAMABAD\n",
      "        id : 1645\n",
      "        Name : Zain\n",
      "        father's Name :Arfeen\n",
      "        course : AI\n",
      "        timing : 9 sy 12\n",
      "    \n"
     ]
    }
   ],
   "source": [
    "def id_card(sid,sname,fname,course,timing):\n",
    "    text = \"\"\"\n",
    "        PIAIC ISLAMABAD\n",
    "        id : {}\n",
    "        Name : {}\n",
    "        father's Name :{}\n",
    "        course : {}\n",
    "        timing : {}\n",
    "    \"\"\".format(sid,sname,fname,course,timing)\n",
    "    return text\n",
    "\n",
    "d1 = {\n",
    "    'course':'AI',\n",
    "    'sname':'Zain',\n",
    "    'fname':'Arfeen',\n",
    "    'sid': 1645,\n",
    "    'timing':\"9 sy 12\"\n",
    "}\n",
    "\n",
    "print(id_card(**d1))"
   ]
  },
  {
   "cell_type": "markdown",
   "metadata": {},
   "source": [
    "# Recursive function"
   ]
  },
  {
   "cell_type": "code",
   "execution_count": 38,
   "metadata": {},
   "outputs": [
    {
     "data": {
      "text/plain": [
       "720"
      ]
     },
     "execution_count": 38,
     "metadata": {},
     "output_type": "execute_result"
    }
   ],
   "source": [
    "def abc(n):\n",
    "    if n==1:\n",
    "        return 1\n",
    "    return n*abc(n-1)\n",
    "abc(6)"
   ]
  },
  {
   "cell_type": "markdown",
   "metadata": {},
   "source": [
    "# Generator Function"
   ]
  },
  {
   "cell_type": "code",
   "execution_count": 42,
   "metadata": {},
   "outputs": [
    {
     "name": "stdout",
     "output_type": "stream",
     "text": [
      "<generator object abc at 0x000001783D7FC3C8>\n",
      "0\n",
      "1\n",
      "[2, 3, 4, 5, 6, 7, 8, 9, 10]\n"
     ]
    }
   ],
   "source": [
    "# in generator func yield is used instead of return\n",
    "def abc():\n",
    "    for i in range(11):\n",
    "        yield i\n",
    "        \n",
    "a=abc()\n",
    "print(a)\n",
    "print(next(a))\n",
    "print(next(a))\n",
    "print(list(a))"
   ]
  },
  {
   "cell_type": "markdown",
   "metadata": {},
   "source": [
    "# Lambda Function"
   ]
  },
  {
   "cell_type": "code",
   "execution_count": 43,
   "metadata": {},
   "outputs": [
    {
     "data": {
      "text/plain": [
       "13"
      ]
     },
     "execution_count": 43,
     "metadata": {},
     "output_type": "execute_result"
    }
   ],
   "source": [
    "def xyz(a,b):\n",
    "    return a+b\n",
    "\n",
    "xyz(5,8)"
   ]
  },
  {
   "cell_type": "code",
   "execution_count": 46,
   "metadata": {},
   "outputs": [
    {
     "data": {
      "text/plain": [
       "14"
      ]
     },
     "execution_count": 46,
     "metadata": {},
     "output_type": "execute_result"
    }
   ],
   "source": [
    "axz = lambda a,b: a+b\n",
    "axz(12,2)"
   ]
  },
  {
   "cell_type": "code",
   "execution_count": 48,
   "metadata": {},
   "outputs": [
    {
     "ename": "NameError",
     "evalue": "name 'b' is not defined",
     "output_type": "error",
     "traceback": [
      "\u001b[1;31m---------------------------------------------------------------------------\u001b[0m",
      "\u001b[1;31mNameError\u001b[0m                                 Traceback (most recent call last)",
      "\u001b[1;32m<ipython-input-48-081bc29b18f2>\u001b[0m in \u001b[0;36m<module>\u001b[1;34m\u001b[0m\n\u001b[1;32m----> 1\u001b[1;33m \u001b[0malpha\u001b[0m \u001b[1;33m=\u001b[0m \u001b[1;32mlambda\u001b[0m \u001b[0ma\u001b[0m\u001b[1;33m,\u001b[0m\u001b[0mb\u001b[0m\u001b[1;33m:\u001b[0m \u001b[0ma\u001b[0m\u001b[1;33m==\u001b[0m\u001b[0mb\u001b[0m\u001b[1;33m,\u001b[0m\u001b[0ma\u001b[0m\u001b[1;33m<\u001b[0m\u001b[0mb\u001b[0m\u001b[1;33m,\u001b[0m\u001b[0ma\u001b[0m\u001b[1;33m>\u001b[0m\u001b[0mb\u001b[0m\u001b[1;33m\u001b[0m\u001b[1;33m\u001b[0m\u001b[0m\n\u001b[0m\u001b[0;32m      2\u001b[0m \u001b[1;33m\u001b[0m\u001b[0m\n\u001b[0;32m      3\u001b[0m \u001b[0malpha\u001b[0m\u001b[1;33m(\u001b[0m\u001b[1;36m12\u001b[0m\u001b[1;33m,\u001b[0m\u001b[1;36m2\u001b[0m\u001b[1;33m)\u001b[0m\u001b[1;33m\u001b[0m\u001b[1;33m\u001b[0m\u001b[0m\n",
      "\u001b[1;31mNameError\u001b[0m: name 'b' is not defined"
     ]
    }
   ],
   "source": [
    "alpha = lambda a,b:\n",
    "\n",
    "alpha(12,2)"
   ]
  },
  {
   "cell_type": "code",
   "execution_count": null,
   "metadata": {},
   "outputs": [],
   "source": []
  }
 ],
 "metadata": {
  "kernelspec": {
   "display_name": "Python 3",
   "language": "python",
   "name": "python3"
  },
  "language_info": {
   "codemirror_mode": {
    "name": "ipython",
    "version": 3
   },
   "file_extension": ".py",
   "mimetype": "text/x-python",
   "name": "python",
   "nbconvert_exporter": "python",
   "pygments_lexer": "ipython3",
   "version": "3.7.4"
  }
 },
 "nbformat": 4,
 "nbformat_minor": 2
}
