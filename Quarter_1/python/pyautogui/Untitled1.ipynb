{
 "cells": [
  {
   "cell_type": "code",
   "execution_count": 4,
   "metadata": {},
   "outputs": [],
   "source": [
    "import pyautogui\n",
    "import time\n",
    "time.sleep(10)\n",
    "x = 1\n",
    "while x < 100:\n",
    "    pyautogui.write(\"I LOVE YOU MEHWUSH MERI JAN <3 <3 \")\n",
    "    pyautogui.press(\"enter\")\n",
    "    x += 1"
   ]
  },
  {
   "cell_type": "code",
   "execution_count": null,
   "metadata": {},
   "outputs": [],
   "source": [
    "1    comment\n",
    "2    comment\n",
    "3    comment\n",
    "4    comment\n",
    "I LOVE YOU MISHI <3 \n",
    "I LOVE YOU MISHI <3 \n",
    "I LOVE YOU MISHI <3 \n",
    "I LOVE YOU MISHI <3 \n",
    "I LOVE YOU MISHI <3 \n",
    "I LOVE YOU MISHI <3 \n",
    "I LOVE YOU MISHI <3 \n",
    "I LOVE YOU MISHI <3 \n",
    "I LOVE YOU MISHI <3 \n",
    "I LOVE YOU MISHI <3 \n",
    "I LOVE YOU MISHI <3 \n",
    "I LOVE YOU MISHI <3 \n",
    "I LOVE YOU MISHI <3 \n",
    "I LOVE YOU MISHI <3 \n",
    "I LOVE YOU MISHI <3 \n",
    "I LOVE YOU MISHI <3 \n",
    "I LOVE YOU MISHI <3 \n",
    "I LOVE YOU MEHWUSH MERI JAN <3 <3 \n"
   ]
  }
 ],
 "metadata": {
  "kernelspec": {
   "display_name": "Python 3",
   "language": "python",
   "name": "python3"
  },
  "language_info": {
   "codemirror_mode": {
    "name": "ipython",
    "version": 3
   },
   "file_extension": ".py",
   "mimetype": "text/x-python",
   "name": "python",
   "nbconvert_exporter": "python",
   "pygments_lexer": "ipython3",
   "version": "3.7.4"
  }
 },
 "nbformat": 4,
 "nbformat_minor": 2
}
