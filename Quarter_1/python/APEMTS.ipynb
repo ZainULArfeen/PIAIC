{
 "cells": [
  {
   "cell_type": "code",
   "execution_count": 4,
   "metadata": {},
   "outputs": [
    {
     "name": "stdout",
     "output_type": "stream",
     "text": [
      "are u gorgeous : gorgeous\n",
      "action : she slaps\n",
      "Direct marketing\n",
      "Customer Feedback\n"
     ]
    }
   ],
   "source": [
    "girl = input(\"are u gorgeous : \")\n",
    "action = input('action : ')\n",
    "if girl=='gorgeous' and your_action== 'im rich':\n",
    "    print(\"Direct marketing\")\n",
    "\n",
    "if girl=='gorgeous' and action == 'friend said im rich':\n",
    "    print(\"Advertisement\")\n",
    "\n",
    "if girl=='gorgeous' and action== 'girl walks to you':\n",
    "    print(\"Brand Recognition\")\n",
    "\n",
    "if girl=='gorgeous' and action== 'she slaps':\n",
    "    print(\"Customer Feedback\")\n",
    "\n",
    "if girl=='gorgeous' and action== 'she introduced his husband':\n",
    "    print(\"Demand and Supply\")\n",
    "\n",
    "if girl=='gorgeous' and action== 'wife arrives':\n",
    "    print(\"Restriction from Entering new Market\")\n",
    "\n"
   ]
  },
  {
   "cell_type": "code",
   "execution_count": null,
   "metadata": {},
   "outputs": [],
   "source": []
  }
 ],
 "metadata": {
  "kernelspec": {
   "display_name": "Python 3",
   "language": "python",
   "name": "python3"
  },
  "language_info": {
   "codemirror_mode": {
    "name": "ipython",
    "version": 3
   },
   "file_extension": ".py",
   "mimetype": "text/x-python",
   "name": "python",
   "nbconvert_exporter": "python",
   "pygments_lexer": "ipython3",
   "version": "3.7.4"
  }
 },
 "nbformat": 4,
 "nbformat_minor": 2
}
