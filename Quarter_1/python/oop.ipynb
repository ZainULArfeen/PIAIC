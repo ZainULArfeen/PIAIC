{
 "cells": [
  {
   "cell_type": "markdown",
   "metadata": {},
   "source": [
    "# OOP"
   ]
  },
  {
   "cell_type": "code",
   "execution_count": 7,
   "metadata": {},
   "outputs": [],
   "source": [
    "#classes\n",
    "class student():\n",
    "    pass # class definition\n",
    "    \n",
    "s1 = student()"
   ]
  },
  {
   "cell_type": "markdown",
   "metadata": {},
   "source": [
    "# constructor"
   ]
  },
  {
   "cell_type": "code",
   "execution_count": 13,
   "metadata": {},
   "outputs": [],
   "source": [
    "class student():\n",
    "    def __init__(self, sid,name,fname,age):#constructor\n",
    "        #attributes/properties/datamember/field\n",
    "        self.sid=sid\n",
    "        self.name=name\n",
    "        self.fname=fname\n",
    "        self.age=age\n",
    "    \n",
    "    def login(self,user,password):\n",
    "        self.name=user\n",
    "        print(\"welcome! \",self.name)\n",
    "    def logout(self):pass\n",
    "    def quiz_attempt(self):pass"
   ]
  },
  {
   "cell_type": "code",
   "execution_count": 14,
   "metadata": {},
   "outputs": [
    {
     "name": "stdout",
     "output_type": "stream",
     "text": [
      "zain\n"
     ]
    }
   ],
   "source": [
    "s1 =student(1645,\"zain\",\"mehmood\",20)\n",
    "s2 = student(1693,\"waleed\",\"khan\",20)\n",
    "print(s1.name)"
   ]
  },
  {
   "cell_type": "markdown",
   "metadata": {},
   "source": [
    "# Class Variable"
   ]
  },
  {
   "cell_type": "code",
   "execution_count": 17,
   "metadata": {},
   "outputs": [
    {
     "data": {
      "text/plain": [
       "2"
      ]
     },
     "execution_count": 17,
     "metadata": {},
     "output_type": "execute_result"
    }
   ],
   "source": [
    "class alpha():\n",
    "    counter=0\n",
    "    \n",
    "    def __init__(self):\n",
    "        self.id=alpha.counter+1\n",
    "        self.name=\"\"\n",
    "        self.fname=\"\"\n",
    "        alpha.counter+=1\n",
    "        \n",
    "obj1 = alpha()\n",
    "obj2 = alpha()\n",
    "\n",
    "obj1.counter\n",
    "alpha.counter\n",
    "    "
   ]
  },
  {
   "cell_type": "code",
   "execution_count": 18,
   "metadata": {},
   "outputs": [
    {
     "name": "stdout",
     "output_type": "stream",
     "text": [
      "1 2\n"
     ]
    }
   ],
   "source": [
    "print(obj1.id,obj2.id)"
   ]
  },
  {
   "cell_type": "markdown",
   "metadata": {},
   "source": [
    "# inheritance"
   ]
  },
  {
   "cell_type": "code",
   "execution_count": 19,
   "metadata": {},
   "outputs": [],
   "source": [
    "class Parent():\n",
    "    def __init__(self):\n",
    "        self.id=0\n",
    "        self.name=\"\"\n",
    "        self.dob=0\n",
    "        \n",
    "    def speak(self,words):\n",
    "        print(\"!\",words)\n",
    "        \n",
    "    def eat(self,food):\n",
    "        print(\"having \" ,food)\n",
    "    \n",
    "class Child(Parent):\n",
    "    pass\n",
    "obj_p = Parent()\n",
    "obj_c = Child()\n",
    "\n"
   ]
  },
  {
   "cell_type": "markdown",
   "metadata": {},
   "source": [
    "# multi inheritance"
   ]
  },
  {
   "cell_type": "code",
   "execution_count": 35,
   "metadata": {},
   "outputs": [
    {
     "ename": "TypeError",
     "evalue": "message() takes 0 positional arguments but 1 was given",
     "output_type": "error",
     "traceback": [
      "\u001b[1;31m---------------------------------------------------------------------------\u001b[0m",
      "\u001b[1;31mTypeError\u001b[0m                                 Traceback (most recent call last)",
      "\u001b[1;32m<ipython-input-35-f9a10ae880c0>\u001b[0m in \u001b[0;36m<module>\u001b[1;34m\u001b[0m\n\u001b[0;32m     20\u001b[0m \u001b[1;33m\u001b[0m\u001b[0m\n\u001b[0;32m     21\u001b[0m \u001b[0mobj_child\u001b[0m \u001b[1;33m=\u001b[0m \u001b[0mChild\u001b[0m\u001b[1;33m(\u001b[0m\u001b[1;33m)\u001b[0m\u001b[1;33m\u001b[0m\u001b[1;33m\u001b[0m\u001b[0m\n\u001b[1;32m---> 22\u001b[1;33m \u001b[0mobj_child\u001b[0m\u001b[1;33m.\u001b[0m\u001b[0mmessage\u001b[0m\u001b[1;33m(\u001b[0m\u001b[1;33m)\u001b[0m\u001b[1;33m\u001b[0m\u001b[1;33m\u001b[0m\u001b[0m\n\u001b[0m",
      "\u001b[1;31mTypeError\u001b[0m: message() takes 0 positional arguments but 1 was given"
     ]
    }
   ],
   "source": [
    "class Mother():\n",
    "    def __init__(self):\n",
    "        self.name=\"\"\n",
    "        self.age=\"\"\n",
    "        \n",
    "    def message():\n",
    "        print(\"Mother\")\n",
    "        \n",
    "class Father():\n",
    "    def __init__(self):\n",
    "        self.name=\"\"\n",
    "        self.age=\"\"\n",
    "        \n",
    "    def message():\n",
    "        print(\"Father\")\n",
    "    \n",
    "class Child(Mother,Father):\n",
    "    pass\n",
    "\n",
    "\n",
    "obj_child = Child()\n",
    "obj_child.message()"
   ]
  },
  {
   "cell_type": "markdown",
   "metadata": {},
   "source": [
    "# Polymorphism"
   ]
  },
  {
   "cell_type": "markdown",
   "metadata": {},
   "source": [
    "# overloading"
   ]
  },
  {
   "cell_type": "code",
   "execution_count": 24,
   "metadata": {},
   "outputs": [
    {
     "name": "stdout",
     "output_type": "stream",
     "text": [
      "3\n",
      "10\n"
     ]
    }
   ],
   "source": [
    "class Abc():\n",
    "    def pl(self,*c):\n",
    "        print(sum(c))\n",
    "        \n",
    "ol=Abc()\n",
    "ol.pl(1,2)\n",
    "ol.pl(1,2,3,4)"
   ]
  },
  {
   "cell_type": "code",
   "execution_count": 30,
   "metadata": {},
   "outputs": [
    {
     "name": "stdout",
     "output_type": "stream",
     "text": [
      "6\n",
      "13\n"
     ]
    }
   ],
   "source": [
    "class ABC():\n",
    "    def __init__(self,x,y):\n",
    "        self.x=x\n",
    "        self.y=y\n",
    "    def __add__(self,other):\n",
    "        print(self.x+other.x)\n",
    "        print(self.y+other.y)\n",
    "        \n",
    "o1=ABC(2,9)\n",
    "o2=ABC(4,4)\n",
    "\n",
    "o1+o2"
   ]
  },
  {
   "cell_type": "markdown",
   "metadata": {},
   "source": [
    "# overriding"
   ]
  },
  {
   "cell_type": "code",
   "execution_count": 33,
   "metadata": {},
   "outputs": [
    {
     "name": "stdout",
     "output_type": "stream",
     "text": [
      "parenta.....\n",
      "child b...\n",
      "parentc.....\n"
     ]
    }
   ],
   "source": [
    "#overriding m parent child ka hona farz h\n",
    "class Parent():\n",
    "    def a(self):\n",
    "        print(\"parenta.....\")\n",
    "    def b(self):\n",
    "        print(\"parentb.....\")\n",
    "    def c(self):\n",
    "        print(\"parentc.....\")\n",
    "        \n",
    "        \n",
    "class Child(Parent):\n",
    "    def b(self):\n",
    "        print(\"child b...\")\n",
    "\n",
    "obj1 = Child()\n",
    "obj1.a()\n",
    "obj1.b()\n",
    "obj1.c()"
   ]
  },
  {
   "cell_type": "markdown",
   "metadata": {},
   "source": [
    "# Encapsulation"
   ]
  },
  {
   "cell_type": "code",
   "execution_count": 10,
   "metadata": {},
   "outputs": [],
   "source": [
    "class A():\n",
    "    def __init__(self,name,age):\n",
    "        self.__sname=name #private attr\n",
    "        self.__age=age\n",
    "        \n",
    "    def display(self):\n",
    "        print(\"name: \",self.__sname)\n",
    "        print(\"age: \",self.__age)\n",
    "        \n",
    "    def change(self,a,b):\n",
    "        self.__sname=a\n",
    "        self.__age=b\n",
    "        \n",
    "    def __info(self):\n",
    "        print(\"hellow\")\n",
    "        \n",
    "    def abc(self):\n",
    "        self.info()\n",
    "\n",
    "# put __ to make a fn/variable private\n",
    "\n",
    "obj1 = A(\"Ali\",25)"
   ]
  },
  {
   "cell_type": "code",
   "execution_count": 11,
   "metadata": {},
   "outputs": [
    {
     "data": {
      "text/plain": [
       "'Ali'"
      ]
     },
     "execution_count": 11,
     "metadata": {},
     "output_type": "execute_result"
    }
   ],
   "source": [
    "# accessing private attr\n",
    "obj1._A__sname"
   ]
  },
  {
   "cell_type": "code",
   "execution_count": 13,
   "metadata": {},
   "outputs": [
    {
     "name": "stdout",
     "output_type": "stream",
     "text": [
      "name:  zz\n",
      "age:  22\n"
     ]
    }
   ],
   "source": [
    "obj1.change(\"zz\",22)\n",
    "obj1.display()"
   ]
  },
  {
   "cell_type": "code",
   "execution_count": 15,
   "metadata": {
    "scrolled": true
   },
   "outputs": [
    {
     "ename": "AttributeError",
     "evalue": "'A' object has no attribute 'abc'",
     "output_type": "error",
     "traceback": [
      "\u001b[1;31m---------------------------------------------------------------------------\u001b[0m",
      "\u001b[1;31mAttributeError\u001b[0m                            Traceback (most recent call last)",
      "\u001b[1;32m<ipython-input-15-69be6ee77927>\u001b[0m in \u001b[0;36m<module>\u001b[1;34m\u001b[0m\n\u001b[1;32m----> 1\u001b[1;33m \u001b[0mobj1\u001b[0m\u001b[1;33m.\u001b[0m\u001b[0mabc\u001b[0m\u001b[1;33m(\u001b[0m\u001b[1;33m)\u001b[0m\u001b[1;33m\u001b[0m\u001b[1;33m\u001b[0m\u001b[0m\n\u001b[0m",
      "\u001b[1;31mAttributeError\u001b[0m: 'A' object has no attribute 'abc'"
     ]
    }
   ],
   "source": [
    "obj1."
   ]
  },
  {
   "cell_type": "markdown",
   "metadata": {},
   "source": [
    "# Abstract Class"
   ]
  },
  {
   "cell_type": "code",
   "execution_count": 16,
   "metadata": {},
   "outputs": [],
   "source": [
    "class A:\n",
    "    def __init__(self,a,b):\n",
    "        self.a=a\n",
    "        self.b=b\n",
    "        \n",
    "class B(A):\n",
    "    pass"
   ]
  },
  {
   "cell_type": "code",
   "execution_count": 19,
   "metadata": {},
   "outputs": [],
   "source": [
    "obj1 = A(2,5)"
   ]
  },
  {
   "cell_type": "code",
   "execution_count": 20,
   "metadata": {},
   "outputs": [
    {
     "name": "stdout",
     "output_type": "stream",
     "text": [
      "2\n"
     ]
    }
   ],
   "source": [
    "print(obj1.a)"
   ]
  },
  {
   "cell_type": "code",
   "execution_count": 18,
   "metadata": {},
   "outputs": [],
   "source": [
    "obj2 = B(7,8)"
   ]
  },
  {
   "cell_type": "code",
   "execution_count": 21,
   "metadata": {},
   "outputs": [
    {
     "name": "stdout",
     "output_type": "stream",
     "text": [
      "5\n"
     ]
    }
   ],
   "source": [
    "print(obj1.b)"
   ]
  },
  {
   "cell_type": "code",
   "execution_count": 26,
   "metadata": {},
   "outputs": [
    {
     "ename": "TypeError",
     "evalue": "Can't instantiate abstract class B with abstract methods __init__",
     "output_type": "error",
     "traceback": [
      "\u001b[1;31m---------------------------------------------------------------------------\u001b[0m",
      "\u001b[1;31mTypeError\u001b[0m                                 Traceback (most recent call last)",
      "\u001b[1;32m<ipython-input-26-101703c30fde>\u001b[0m in \u001b[0;36m<module>\u001b[1;34m\u001b[0m\n\u001b[0;32m     10\u001b[0m     \u001b[1;32mpass\u001b[0m\u001b[1;33m\u001b[0m\u001b[1;33m\u001b[0m\u001b[0m\n\u001b[0;32m     11\u001b[0m \u001b[1;33m\u001b[0m\u001b[0m\n\u001b[1;32m---> 12\u001b[1;33m \u001b[0mobj1\u001b[0m \u001b[1;33m=\u001b[0m \u001b[0mB\u001b[0m\u001b[1;33m(\u001b[0m\u001b[1;36m6\u001b[0m\u001b[1;33m,\u001b[0m\u001b[1;36m7\u001b[0m\u001b[1;33m)\u001b[0m\u001b[1;33m\u001b[0m\u001b[1;33m\u001b[0m\u001b[0m\n\u001b[0m",
      "\u001b[1;31mTypeError\u001b[0m: Can't instantiate abstract class B with abstract methods __init__"
     ]
    }
   ],
   "source": [
    "from abc import ABC, abstractmethod\n",
    "\n",
    "class A(ABC):\n",
    "    @abstractmethod #decorator\n",
    "    def __init__(self,a,b):\n",
    "        self.a=a\n",
    "        self.b=b\n",
    "        \n",
    "class B(A):\n",
    "    pass\n",
    "\n",
    "obj1 = A(6,7)"
   ]
  },
  {
   "cell_type": "code",
   "execution_count": 28,
   "metadata": {},
   "outputs": [
    {
     "data": {
      "text/plain": [
       "'object name is qasim 24 old.'"
      ]
     },
     "execution_count": 28,
     "metadata": {},
     "output_type": "execute_result"
    }
   ],
   "source": [
    "from abc import ABC, abstractmethod\n",
    "\n",
    "class Human(ABC):\n",
    "    def __init__(self):\n",
    "        self.name=None\n",
    "        self.age=None\n",
    "        \n",
    "    def display(self,name,age):\n",
    "        self.name=name\n",
    "        self.age=age\n",
    "        return \"object name is {} {} old.\".format(self.name,self.age)\n",
    "p1 = Human()\n",
    "p1.display(\"qasim\",24)"
   ]
  },
  {
   "cell_type": "code",
   "execution_count": 29,
   "metadata": {},
   "outputs": [],
   "source": [
    "class Male(Human):\n",
    "    def __init__(self):\n",
    "        self.name=\"zain\"\n",
    "        self.fname = \"Arfeen\"\n",
    "        \n",
    "    def laughter(self):\n",
    "        return \"HAHAHAHA\"\n",
    "    \n",
    "p1=Male()"
   ]
  },
  {
   "cell_type": "code",
   "execution_count": 30,
   "metadata": {},
   "outputs": [
    {
     "ename": "NameError",
     "evalue": "name 'parent' is not defined",
     "output_type": "error",
     "traceback": [
      "\u001b[1;31m---------------------------------------------------------------------------\u001b[0m",
      "\u001b[1;31mNameError\u001b[0m                                 Traceback (most recent call last)",
      "\u001b[1;32m<ipython-input-30-c3c15ecd9383>\u001b[0m in \u001b[0;36m<module>\u001b[1;34m\u001b[0m\n\u001b[0;32m     13\u001b[0m \u001b[1;33m\u001b[0m\u001b[0m\n\u001b[0;32m     14\u001b[0m \u001b[1;33m\u001b[0m\u001b[0m\n\u001b[1;32m---> 15\u001b[1;33m \u001b[1;32mclass\u001b[0m \u001b[0mchild\u001b[0m\u001b[1;33m(\u001b[0m\u001b[0mparent\u001b[0m\u001b[1;33m)\u001b[0m\u001b[1;33m:\u001b[0m\u001b[1;33m\u001b[0m\u001b[1;33m\u001b[0m\u001b[0m\n\u001b[0m\u001b[0;32m     16\u001b[0m     \u001b[1;32mpass\u001b[0m\u001b[1;33m\u001b[0m\u001b[1;33m\u001b[0m\u001b[0m\n\u001b[0;32m     17\u001b[0m \u001b[1;33m\u001b[0m\u001b[0m\n",
      "\u001b[1;31mNameError\u001b[0m: name 'parent' is not defined"
     ]
    }
   ],
   "source": [
    "#task\n",
    "#inheritance\n",
    "class Parent():\n",
    "    def __init__(self):\n",
    "        self.name = \"\"\n",
    "        self.fname = \"\"\n",
    "    \n",
    "    def speak(self, words=\"\"):\n",
    "        print(words,\"...\")\n",
    "    \n",
    "    def eat(self, food=\"roti\"):\n",
    "        print(food)\n",
    "      \n",
    "\n",
    "class child(parent):\n",
    "    pass\n",
    "\n",
    "#polymorphism\n",
    "#overloading\n",
    "class A():\n",
    "    \n",
    "    def abc(self,*n):\n",
    "        print(sum(n))\n",
    "\n",
    "obj1 = A()\n",
    "obj1.abc(1)\n",
    "obj1.abc(1,3,2,4)\n",
    "\n",
    "#overriding\n",
    "class A():\n",
    "    def speak(self):\n",
    "        print(\"Speak Function Class A\")\n",
    "        \n",
    "        \n",
    "class B(A):\n",
    "    def speak(self): # Over Riding\n",
    "        print(\"Speak Function Class B\")\n",
    "        \n",
    "obj1 = B()        \n",
    "obj1.speak()"
   ]
  },
  {
   "cell_type": "code",
   "execution_count": 33,
   "metadata": {},
   "outputs": [],
   "source": [
    "#task inheritance\n",
    "class Parent():\n",
    "    def __init__(self):\n",
    "        self.id=0\n",
    "        self.name=\"\"\n",
    "        self.dob=0\n",
    "        \n",
    "    def speak(self,words):\n",
    "        print(\"!\",words)\n",
    "        \n",
    "    def eat(self,food):\n",
    "        print(\"having \" ,food)\n",
    "    \n",
    "class Child(Parent):\n",
    "    pass\n",
    "obj_p = Parent()\n",
    "obj_c = Child()\n"
   ]
  },
  {
   "cell_type": "code",
   "execution_count": 34,
   "metadata": {},
   "outputs": [
    {
     "name": "stdout",
     "output_type": "stream",
     "text": [
      "parenta.....\n",
      "child b...\n",
      "parentc.....\n"
     ]
    }
   ],
   "source": [
    "# polymorphism\n",
    "#overriding m parent child ka hona farz h\n",
    "class Parent():\n",
    "    def a(self):\n",
    "        print(\"parenta.....\")\n",
    "    def b(self):\n",
    "        print(\"parentb.....\")\n",
    "    def c(self):\n",
    "        print(\"parentc.....\")\n",
    "        \n",
    "        \n",
    "class Child(Parent):\n",
    "    def b(self):\n",
    "        print(\"child b...\")\n",
    "\n",
    "obj1 = Child()\n",
    "obj1.a()\n",
    "obj1.b()\n",
    "obj1.c()"
   ]
  },
  {
   "cell_type": "code",
   "execution_count": 35,
   "metadata": {},
   "outputs": [
    {
     "data": {
      "text/plain": [
       "'Ali'"
      ]
     },
     "execution_count": 35,
     "metadata": {},
     "output_type": "execute_result"
    }
   ],
   "source": [
    "#encapsulatoin\n",
    "class A():\n",
    "    def __init__(self,name,age):\n",
    "        self.__sname=name #private attr\n",
    "        self.__age=age\n",
    "        \n",
    "    def display(self):\n",
    "        print(\"name: \",self.__sname)\n",
    "        print(\"age: \",self.__age)\n",
    "        \n",
    "    def change(self,a,b):\n",
    "        self.__sname=a\n",
    "        self.__age=b\n",
    "        \n",
    "    def __info(self):\n",
    "        print(\"hellow\")\n",
    "        \n",
    "    def abc(self):\n",
    "        self.info()\n",
    "\n",
    "\n",
    "obj1 = A(\"Ali\",25)\n",
    "obj1._A__sname"
   ]
  },
  {
   "cell_type": "code",
   "execution_count": null,
   "metadata": {},
   "outputs": [],
   "source": []
  }
 ],
 "metadata": {
  "kernelspec": {
   "display_name": "Python 3",
   "language": "python",
   "name": "python3"
  },
  "language_info": {
   "codemirror_mode": {
    "name": "ipython",
    "version": 3
   },
   "file_extension": ".py",
   "mimetype": "text/x-python",
   "name": "python",
   "nbconvert_exporter": "python",
   "pygments_lexer": "ipython3",
   "version": "3.7.4"
  }
 },
 "nbformat": 4,
 "nbformat_minor": 2
}
