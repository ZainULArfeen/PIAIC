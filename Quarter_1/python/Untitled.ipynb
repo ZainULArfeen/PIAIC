{
 "cells": [
  {
   "cell_type": "code",
   "execution_count": 23,
   "metadata": {},
   "outputs": [
    {
     "name": "stdout",
     "output_type": "stream",
     "text": [
      "zaraaakhan\n"
     ]
    }
   ],
   "source": [
    "def couples(husband, wife):\n",
    "    print(husband + wife)\n",
    "    \n",
    "    \n",
    "# in positional args position doesnt matter\n",
    "couples(\"zaraaa\", \"khan\")"
   ]
  },
  {
   "cell_type": "code",
   "execution_count": 9,
   "metadata": {},
   "outputs": [
    {
     "name": "stdout",
     "output_type": "stream",
     "text": [
      "40.0\n"
     ]
    }
   ],
   "source": [
    "def sales_tax(sales_total, tax_rate=0.04):\n",
    "    print(sales_total*tax_rate)\n",
    "sales_tax(1000)"
   ]
  },
  {
   "cell_type": "code",
   "execution_count": 19,
   "metadata": {},
   "outputs": [
    {
     "name": "stdout",
     "output_type": "stream",
     "text": [
      "wleedwaleed\n"
     ]
    }
   ],
   "source": [
    "def abc(lastname, name=\"waleed\"):\n",
    "    print(name + lastname)\n",
    "    \n",
    "abc(lastname=\"waleed\",name=\"wleed\")"
   ]
  },
  {
   "cell_type": "code",
   "execution_count": 29,
   "metadata": {},
   "outputs": [
    {
     "name": "stdout",
     "output_type": "stream",
     "text": [
      "winner : real madrid\n",
      "Score :  1-0\n",
      "time : 1000 hrs\n"
     ]
    }
   ],
   "source": [
    "def display_result(winner, score, **info):\n",
    "    print(\"winner : \" + winner + \"\\n\" + \"Score :  \" + score)\n",
    "    for key, value in info.items() :\n",
    "        print(key +\" : \"+ value)\n",
    "        \n",
    "\n",
    "display_result(\"real madrid\",\"1-0\", time = \"1000 hrs\")"
   ]
  },
  {
   "cell_type": "code",
   "execution_count": 34,
   "metadata": {},
   "outputs": [
    {
     "name": "stdout",
     "output_type": "stream",
     "text": [
      "ZAINBHATTI ('BHAI',)\n"
     ]
    }
   ],
   "source": [
    "def disp_res(first_name, last_name, *opt):\n",
    "    print(first_name + last_name , opt)\n",
    "    \n",
    "disp_res('ZAIN',\"BHATTI\",\"BHAI\")"
   ]
  },
  {
   "cell_type": "code",
   "execution_count": 41,
   "metadata": {},
   "outputs": [
    {
     "name": "stdout",
     "output_type": "stream",
     "text": [
      "enter color: ary\n",
      "jabay\n"
     ]
    }
   ],
   "source": [
    "# Code the function here, but do it last.\n",
    "def c_func(primary_colors, color):\n",
    "    for x in primary_colors:\n",
    "        if x == color:\n",
    "            print(\"Found\")\n",
    "        else:\n",
    "            print(\"jabay\")\n",
    "            break\n",
    "\n",
    "\n",
    "\n",
    "\n",
    "# Do this first.\n",
    "# Ask the user to enter a color. Assign it to a variable.\n",
    "color = input(\"enter color: \")\n",
    "# Here's the tuple:\n",
    "primary_colors = (\"yellow\", \"red\", \"blue\")\n",
    "# Do this second.\n",
    "# Call the function, passing the tuple name\n",
    "# and the variable containing the user's color choice.\n",
    "c_func(primary_colors, color)"
   ]
  },
  {
   "cell_type": "code",
   "execution_count": 48,
   "metadata": {},
   "outputs": [
    {
     "name": "stdout",
     "output_type": "stream",
     "text": [
      "22 22\n"
     ]
    }
   ],
   "source": [
    "def calc(num1 = 10, num2 = 20):\n",
    "    print(num1 , num2)\n",
    "\n",
    "calc(num1 = 22, num2 = 22)\n"
   ]
  },
  {
   "cell_type": "code",
   "execution_count": 50,
   "metadata": {},
   "outputs": [
    {
     "name": "stdout",
     "output_type": "stream",
     "text": [
      "['zain', 'bhatti', 'ISB', 'gandoo waleed']\n"
     ]
    }
   ],
   "source": [
    "list_to_be_filled = []\n",
    "def cal(f_name,l_name,**designation):\n",
    "    list_to_be_filled.append(f_name)\n",
    "    list_to_be_filled.append(l_name)\n",
    "    for value in designation.values():\n",
    "        list_to_be_filled.append(value)\n",
    "    \n",
    "cal(f_name=\"zain\",l_name=\"bhatti\", city=\"ISB\", friend=\"gandoo waleed\")\n",
    "\n",
    "print(list_to_be_filled)"
   ]
  },
  {
   "cell_type": "code",
   "execution_count": 51,
   "metadata": {},
   "outputs": [
    {
     "name": "stdout",
     "output_type": "stream",
     "text": [
      "[11, 112, 1212]\n"
     ]
    }
   ],
   "source": [
    "def add(num1,num2,num3):\n",
    "    num_list = [num1,num2,num3]\n",
    "    return num_list\n",
    "print(add(11,112,1212))\n"
   ]
  },
  {
   "cell_type": "code",
   "execution_count": 86,
   "metadata": {},
   "outputs": [
    {
     "data": {
      "text/plain": [
       "{'cat': 'cattttt', 'dog': 'bow-wow', 'fish': 'glug,'}"
      ]
     },
     "execution_count": 86,
     "metadata": {},
     "output_type": "execute_result"
    }
   ],
   "source": [
    "creatures = {\n",
    "  \"cat\": \"meow\",\n",
    "  \"dog\": \"bow-wow\",\n",
    "  \"fish\": \"glug,\"\n",
    "}\n",
    "def chng_dict(dictionary, keyy, val):\n",
    "    dictionary.update({keyy:val})\n",
    "    return dictionary\n",
    "chng_dict(creatures,\"cat\",\"cattttt\")\n",
    "\n",
    "creatures"
   ]
  },
  {
   "cell_type": "code",
   "execution_count": 17,
   "metadata": {},
   "outputs": [
    {
     "name": "stdout",
     "output_type": "stream",
     "text": [
      "Baroccli\n"
     ]
    }
   ],
   "source": [
    "#Classes\n",
    "class Dog():\n",
    "    def __init__(self,name,age):\n",
    "        self.name = name\n",
    "        self.age = age\n",
    "        \n",
    "    def sit(self):\n",
    "        print(self.name.title())\n",
    "        \n",
    "        \n",
    "    def roll_over(self):\n",
    "        print(self.name.title())\n",
    "\n",
    "\n",
    "my_dog = Dog(\"baroccli\",\"2\")\n",
    "\n",
    "my_dog.roll_over()"
   ]
  },
  {
   "cell_type": "code",
   "execution_count": 20,
   "metadata": {},
   "outputs": [
    {
     "name": "stdout",
     "output_type": "stream",
     "text": [
      "Dhaba\n",
      "khabby di saggi\n",
      "OPEN\n"
     ]
    }
   ],
   "source": [
    "class Resturant():\n",
    "    def __init__(self,res_name,res_cusine):\n",
    "        self.res_name = res_name\n",
    "        self.res_cusine = res_cusine\n",
    "        \n",
    "    def describe_res(self):\n",
    "        print(self.res_name + \"\\n\" + self.res_cusine)\n",
    "    \n",
    "    def open_res(self):\n",
    "        print(\"OPEN\")\n",
    "        \n",
    "resturant = Resturant(\"Dhaba\",\"khabby di saggi\")\n",
    "resturant.describe_res()\n",
    "resturant.open_res()"
   ]
  },
  {
   "cell_type": "code",
   "execution_count": 27,
   "metadata": {},
   "outputs": [
    {
     "name": "stdout",
     "output_type": "stream",
     "text": [
      "zainBhatti\n",
      "Saqubhatti\n",
      "kamiraj\n",
      "Hello   zain Bhatti\n"
     ]
    }
   ],
   "source": [
    "class User():\n",
    "    def __init__(self,f_name,l_name):\n",
    "        self.f_name = f_name\n",
    "        self.l_name = l_name\n",
    "    def describe_user(self):\n",
    "        print(self.f_name + self.l_name)\n",
    "    def greet_user(self):\n",
    "        print(\"Hello  \" , self.f_name, self.l_name)\n",
    "\n",
    "user = User('zain', 'Bhatti')\n",
    "user1 = User(\"Saqu\", \"bhatti\")\n",
    "user2 = User(\"kami\",\"raj\")\n",
    "user.describe_user()\n",
    "user1.describe_user()\n",
    "user2.describe_user()\n",
    "user.greet_user()"
   ]
  },
  {
   "cell_type": "code",
   "execution_count": null,
   "metadata": {},
   "outputs": [],
   "source": []
  }
 ],
 "metadata": {
  "kernelspec": {
   "display_name": "Python 3",
   "language": "python",
   "name": "python3"
  },
  "language_info": {
   "codemirror_mode": {
    "name": "ipython",
    "version": 3
   },
   "file_extension": ".py",
   "mimetype": "text/x-python",
   "name": "python",
   "nbconvert_exporter": "python",
   "pygments_lexer": "ipython3",
   "version": "3.7.4"
  }
 },
 "nbformat": 4,
 "nbformat_minor": 2
}
